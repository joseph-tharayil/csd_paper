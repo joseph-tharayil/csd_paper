{
 "cells": [
  {
   "cell_type": "markdown",
   "id": "4a307d4a-ac9c-4aa9-9dd8-f931c27a8857",
   "metadata": {},
   "source": [
    "### This notebook produces Figure 2b in the paper \"iCSD produces spurious results in dense electrode arrays\""
   ]
  },
  {
   "cell_type": "code",
   "execution_count": 1,
   "id": "stupid-audio",
   "metadata": {},
   "outputs": [],
   "source": [
    "import numpy as np\n",
    "import matplotlib.pyplot as plt\n",
    "import h5py\n",
    "from glob import glob\n",
    "from tqdm import tqdm\n",
    "import xarray as xr\n",
    "import os, sys\n",
    "import scipy\n",
    "import pandas as pd\n",
    "from scipy.ndimage import gaussian_filter\n",
    "from sklearn.decomposition import PCA\n",
    "from scipy import stats\n",
    "\n",
    "from scipy import interpolate\n",
    "\n",
    "from mpl_toolkits.axes_grid1.anchored_artists import AnchoredSizeBar\n",
    "\n",
    "from allensdk.brain_observatory.ecephys.ecephys_project_cache import EcephysProjectCache\n",
    "\n",
    "from cinplaAnalysis.utils import *\n",
    "\n",
    "%matplotlib ipympl"
   ]
  },
  {
   "cell_type": "code",
   "execution_count": 2,
   "id": "martial-income",
   "metadata": {},
   "outputs": [],
   "source": [
    "import matplotlib\n",
    "\n",
    "font = {'size'   : 12}\n",
    "\n",
    "matplotlib.rc('font', **font)"
   ]
  },
  {
   "cell_type": "code",
   "execution_count": 3,
   "id": "6e6b5e56",
   "metadata": {},
   "outputs": [],
   "source": [
    "matplotlib.rcParams['savefig.pad_inches'] = 0"
   ]
  },
  {
   "cell_type": "code",
   "execution_count": 4,
   "id": "b16977fa-bc5a-4478-96a0-8581908dd1b4",
   "metadata": {},
   "outputs": [],
   "source": [
    "def gaussian(x,sig):\n",
    "\n",
    "    curve = 1.0 / (np.sqrt(2.0 * np.pi) * sig) * np.exp(-np.power((x) / sig, 2.0) / 2)\n",
    "\n",
    "    curve /= np.max(curve)\n",
    "    \n",
    "    return curve"
   ]
  },
  {
   "cell_type": "code",
   "execution_count": 5,
   "id": "5ee531fd-bb1b-4122-b914-384d9bac1db8",
   "metadata": {},
   "outputs": [
    {
     "name": "stderr",
     "output_type": "stream",
     "text": [
      "/gpfs/bbp.cscs.ch/home/tharayil/bluerecording-dev/lib/python3.11/site-packages/numpy/lib/function_base.py:2853: RuntimeWarning: invalid value encountered in divide\n",
      "  c /= stddev[:, None]\n",
      "/gpfs/bbp.cscs.ch/home/tharayil/bluerecording-dev/lib/python3.11/site-packages/numpy/lib/function_base.py:2854: RuntimeWarning: invalid value encountered in divide\n",
      "  c /= stddev[None, :]\n"
     ]
    }
   ],
   "source": [
    "'''\n",
    "A line of electrodes, perpendicular to the direction of the cortical column, is placed in each of layers 6, 5, 4, and 3.\n",
    "In this cell, we loop through each layer and each trial. For each electrode, the objective sphere CSD is loaded,\n",
    "and the correlation matrix between electrodes is calculated (for each layer and trial separately)\n",
    "'''\n",
    "\n",
    "signals_stim = []\n",
    "correlations_stim = []\n",
    "\n",
    "for layer in range(4):\n",
    "    \n",
    "    signals_stim.append([])\n",
    "    correlations_stim.append([])\n",
    "\n",
    "\n",
    "    for trial in range(10):\n",
    "\n",
    "        signals_stim[layer].append([])\n",
    "\n",
    "        totalL = np.load(str(trial)+'/total_overlap.npy') # Loads objective sphere CSD\n",
    "\n",
    "        if totalL.shape == ():\n",
    "            continue\n",
    "    \n",
    "        for electrode in range(25):\n",
    "\n",
    "            signal_stim = totalL[:,layer*25+electrode] # Loads signal for given electrode, from stimulus onset to 50 ms after stimulus\n",
    "\n",
    "            #signal_stim = np.convolve(np.ones(15),signal_stim)/5\n",
    "        \n",
    "            signals_stim[layer][trial].append(signal_stim)\n",
    "        \n",
    "\n",
    "        signals_stim[layer][trial] = np.array(signals_stim[layer][trial])    \n",
    "\n",
    "        correlations_stim[layer].append(np.corrcoef(signals_stim[layer][trial])) # Calculates correlation matrix\n",
    "\n",
    "\n",
    "    correlations_stim[layer] = np.array(correlations_stim[layer])\n",
    "\n"
   ]
  },
  {
   "cell_type": "code",
   "execution_count": 6,
   "id": "a35ff13f-8156-45ea-b21d-6bc470db2425",
   "metadata": {},
   "outputs": [],
   "source": [
    "correlations_stim = np.array(correlations_stim)"
   ]
  },
  {
   "cell_type": "code",
   "execution_count": 7,
   "id": "50927209-07a7-4ad1-ad7f-391f556d7687",
   "metadata": {},
   "outputs": [
    {
     "data": {
      "text/plain": [
       "(4, 9, 25, 25)"
      ]
     },
     "execution_count": 7,
     "metadata": {},
     "output_type": "execute_result"
    }
   ],
   "source": [
    "correlations_stim.shape"
   ]
  },
  {
   "cell_type": "code",
   "execution_count": 8,
   "id": "3484b809-223f-4b3e-90b9-e04e8040eb97",
   "metadata": {},
   "outputs": [],
   "source": [
    "positionsX = 20*np.arange(-2,3) # Horizontal position of each electrode in a given layer, in um\n",
    "positionsY = 20*np.arange(-2,3) # Horizontal position of each electrode in a given layer, in um\n",
    "\n",
    "### Here, we calculate the Euclidean distance between each pair of electrodes in a given layer\n",
    "\n",
    "distanceMat = np.zeros([25,25])\n",
    "\n",
    "positionList = []\n",
    "\n",
    "for i, p in enumerate(positionsX):\n",
    "    for j, p1 in enumerate(positionsY):\n",
    "\n",
    "        positionList.append( np.array([p,p1,0]) )\n",
    "\n",
    "                                        \n",
    "for i, p in enumerate(positionList):\n",
    "    for j, p1 in enumerate(positionList):\n",
    "        distanceMat[i,j] = np.linalg.norm(p-p1)"
   ]
  },
  {
   "cell_type": "code",
   "execution_count": 9,
   "id": "a55a8629-a9dd-49c3-b43b-cf6b703ead3f",
   "metadata": {},
   "outputs": [],
   "source": [
    "distances = np.unique(distanceMat)"
   ]
  },
  {
   "cell_type": "code",
   "execution_count": 42,
   "id": "3533dd40-3b70-4dc7-8d41-a35e7612c5ca",
   "metadata": {},
   "outputs": [],
   "source": [
    "### Here, we calculate the the mean correlation, as a function of distance between electrodes, across trials for the electrodes in each layer\n",
    "\n",
    "mean_per_layer = []\n",
    "sem_per_layer = []\n",
    "\n",
    "for l in range(4):\n",
    "    means = []\n",
    "    sem = []\n",
    "    means_per_distance = []\n",
    "    for d in distances:\n",
    "        idx = np.where(distanceMat==d)\n",
    "        \n",
    "        correlation = correlations_stim[l][:,idx[0],idx[1]]\n",
    "        \n",
    "        means_per_distance.append(correlation)\n",
    "        \n",
    "        means.append(np.nanmean(correlation))\n",
    "        sem.append(np.nanstd(correlation))\n",
    "        \n",
    "    mean_per_layer.append(np.array(means))\n",
    "    sem_per_layer.append(np.array(sem))"
   ]
  },
  {
   "cell_type": "code",
   "execution_count": 43,
   "id": "193e70e3-e8aa-483a-bed8-5274c9e495dc",
   "metadata": {},
   "outputs": [
    {
     "name": "stdout",
     "output_type": "stream",
     "text": [
      "[6.61883284]\n"
     ]
    }
   ],
   "source": [
    "from scipy.optimize import curve_fit\n",
    "\n",
    "# Here, we fit a Gaussian to the average, over all layers, of the distance-correlation function\n",
    "\n",
    "newDistances = np.hstack((-np.flip(distances),distances))\n",
    "newValues = np.hstack((np.flip(np.mean(mean_per_layer,axis=0)),np.mean(mean_per_layer,axis=0)))\n",
    "\n",
    "sigma = curve_fit(gaussian, newDistances, newValues,p0=3)\n",
    "print(sigma[0])"
   ]
  },
  {
   "cell_type": "code",
   "execution_count": 47,
   "id": "c5b91569-123b-4860-b933-140c0c104637",
   "metadata": {},
   "outputs": [
    {
     "name": "stderr",
     "output_type": "stream",
     "text": [
      "/gpfs/bbp.cscs.ch/ssd/slurmTmpFS/tharayil/2572010/ipykernel_211400/3832777526.py:3: RuntimeWarning: More than 20 figures have been opened. Figures created through the pyplot interface (`matplotlib.pyplot.figure`) are retained until explicitly closed and may consume too much memory. (To control this warning, see the rcParam `figure.max_open_warning`). Consider using `matplotlib.pyplot.close()`.\n",
      "  plt.figure(figsize=(3,3))\n"
     ]
    },
    {
     "data": {
      "application/vnd.jupyter.widget-view+json": {
       "model_id": "7983b7180991452bb6851e4023cfa8f7",
       "version_major": 2,
       "version_minor": 0
      },
      "image/png": "[encoded data removed]",
      "text/html": [
       "\n",
       "            <div style=\"display: inline-block;\">\n",
       "                <div class=\"jupyter-widgets widget-label\" style=\"text-align: center;\">\n",
       "                    Figure\n",
       "                </div>\n",
       "                <img src='data:image/png;base64,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' width=300.0/>\n",
       "            </div>\n",
       "        "
      ],
      "text/plain": [
       "Canvas(toolbar=Toolbar(toolitems=[('Home', 'Reset original view', 'home', 'home'), ('Back', 'Back to previous …"
      ]
     },
     "metadata": {},
     "output_type": "display_data"
    }
   ],
   "source": [
    "# This cell plots Figure 2b\n",
    "\n",
    "plt.figure(figsize=(3,3))\n",
    "for layer in range(4):\n",
    "    plt.plot(distances[1:],mean_per_layer[layer][1:],'o')\n",
    "\n",
    "# plt.plot(distances,gaussian(distances,sigma[0]),'k')\n",
    "\n",
    "plt.legend(['L6','L5','L4','L3','Fit'])\n",
    "plt.xlabel('Distance (um)')\n",
    "plt.ylabel('Correlation coefficient')\n",
    "plt.tight_layout()\n",
    "\n",
    "plt.savefig('correlation.png',dpi=300)"
   ]
  },
  {
   "cell_type": "code",
   "execution_count": null,
   "id": "a46e6dc2-f207-4622-9117-2afbddaf67bd",
   "metadata": {},
   "outputs": [],
   "source": []
  }
 ],
 "metadata": {
  "kernelspec": {
   "display_name": "Python 3 (ipykernel)",
   "language": "python",
   "name": "python3"
  },
  "language_info": {
   "codemirror_mode": {
    "name": "ipython",
    "version": 3
   },
   "file_extension": ".py",
   "mimetype": "text/x-python",
   "name": "python",
   "nbconvert_exporter": "python",
   "pygments_lexer": "ipython3",
   "version": "3.11.6"
  }
 },
 "nbformat": 4,
 "nbformat_minor": 5
}
