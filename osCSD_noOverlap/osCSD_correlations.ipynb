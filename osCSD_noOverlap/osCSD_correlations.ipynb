{
 "cells": [
  {
   "cell_type": "markdown",
   "id": "4a307d4a-ac9c-4aa9-9dd8-f931c27a8857",
   "metadata": {},
   "source": [
    "### This notebook produces Figure 2b in the paper \"iCSD produces spurious results in dense electrode arrays\""
   ]
  },
  {
   "cell_type": "code",
   "execution_count": 1,
   "id": "stupid-audio",
   "metadata": {},
   "outputs": [],
   "source": [
    "import numpy as np\n",
    "import matplotlib.pyplot as plt\n",
    "import h5py\n",
    "from glob import glob\n",
    "from tqdm import tqdm\n",
    "import xarray as xr\n",
    "import os, sys\n",
    "import scipy\n",
    "import pandas as pd\n",
    "from scipy.ndimage import gaussian_filter\n",
    "from sklearn.decomposition import PCA\n",
    "from scipy import stats\n",
    "\n",
    "from scipy import interpolate\n",
    "\n",
    "from mpl_toolkits.axes_grid1.anchored_artists import AnchoredSizeBar\n",
    "\n",
    "from allensdk.brain_observatory.ecephys.ecephys_project_cache import EcephysProjectCache\n",
    "\n",
    "from cinplaAnalysis.utils import *\n",
    "\n",
    "%matplotlib ipympl"
   ]
  },
  {
   "cell_type": "code",
   "execution_count": 2,
   "id": "martial-income",
   "metadata": {},
   "outputs": [],
   "source": [
    "import matplotlib\n",
    "\n",
    "font = {'size'   : 12}\n",
    "\n",
    "matplotlib.rc('font', **font)"
   ]
  },
  {
   "cell_type": "code",
   "execution_count": 3,
   "id": "6e6b5e56",
   "metadata": {},
   "outputs": [],
   "source": [
    "matplotlib.rcParams['savefig.pad_inches'] = 0"
   ]
  },
  {
   "cell_type": "code",
   "execution_count": 4,
   "id": "b16977fa-bc5a-4478-96a0-8581908dd1b4",
   "metadata": {},
   "outputs": [],
   "source": [
    "def gaussian(x,sig):\n",
    "\n",
    "    curve = 1.0 / (np.sqrt(2.0 * np.pi) * sig) * np.exp(-np.power((x) / sig, 2.0) / 2)\n",
    "\n",
    "    curve /= np.max(curve)\n",
    "    \n",
    "    return curve"
   ]
  },
  {
   "cell_type": "code",
   "execution_count": 6,
   "id": "5ee531fd-bb1b-4122-b914-384d9bac1db8",
   "metadata": {},
   "outputs": [],
   "source": [
    "'''\n",
    "A line of electrodes, perpendicular to the direction of the cortical column, is placed in each of layers 6, 5, 4, and 3.\n",
    "In this cell, we loop through each layer and each trial. For each electrode, the objective sphere CSD is loaded,\n",
    "and the correlation matrix between electrodes is calculated (for each layer and trial separately)\n",
    "'''\n",
    "\n",
    "signals_stim = []\n",
    "correlations_stim = []\n",
    "\n",
    "for layer in range(1):\n",
    "    \n",
    "    signals_stim.append([])\n",
    "    correlations_stim.append([])\n",
    "\n",
    "\n",
    "    for trial in range(10):\n",
    "\n",
    "        signals_stim[layer].append([])\n",
    "\n",
    "        totalL = np.load(str(trial)+'/total_overlap.npy') # Loads objective sphere CSD\n",
    "\n",
    "        if totalL.shape == ():\n",
    "            continue\n",
    "    \n",
    "        for electrode in range(25):\n",
    "\n",
    "            signal_stim = totalL[:,layer*25+electrode] # Loads signal for given electrode, from stimulus onset to 50 ms after stimulus\n",
    "\n",
    "            #signal_stim = np.convolve(np.ones(15),signal_stim)/5\n",
    "        \n",
    "            signals_stim[layer][trial].append(signal_stim)\n",
    "        \n",
    "\n",
    "        signals_stim[layer][trial] = np.array(signals_stim[layer][trial])    \n",
    "\n",
    "        correlations_stim[layer].append(np.corrcoef(signals_stim[layer][trial])) # Calculates correlation matrix\n",
    "\n",
    "\n",
    "    correlations_stim[layer] = np.array(correlations_stim[layer])\n",
    "\n"
   ]
  },
  {
   "cell_type": "code",
   "execution_count": 7,
   "id": "a35ff13f-8156-45ea-b21d-6bc470db2425",
   "metadata": {},
   "outputs": [],
   "source": [
    "correlations_stim = np.array(correlations_stim)"
   ]
  },
  {
   "cell_type": "code",
   "execution_count": 8,
   "id": "50927209-07a7-4ad1-ad7f-391f556d7687",
   "metadata": {},
   "outputs": [
    {
     "data": {
      "text/plain": [
       "(1, 10, 25, 25)"
      ]
     },
     "execution_count": 8,
     "metadata": {},
     "output_type": "execute_result"
    }
   ],
   "source": [
    "correlations_stim.shape"
   ]
  },
  {
   "cell_type": "code",
   "execution_count": 17,
   "id": "3484b809-223f-4b3e-90b9-e04e8040eb97",
   "metadata": {},
   "outputs": [],
   "source": [
    "positionsX = 40*np.arange(-2,3) # Horizontal position of each electrode in a given layer, in um\n",
    "positionsY = 40*np.arange(-2,3) # Horizontal position of each electrode in a given layer, in um\n",
    "\n",
    "### Here, we calculate the Euclidean distance between each pair of electrodes in a given layer\n",
    "\n",
    "distanceMat = np.zeros([25,25])\n",
    "\n",
    "positionList = []\n",
    "\n",
    "for i, p in enumerate(positionsX):\n",
    "    for j, p1 in enumerate(positionsY):\n",
    "\n",
    "        positionList.append( np.array([p,p1,0]) )\n",
    "\n",
    "                                        \n",
    "for i, p in enumerate(positionList):\n",
    "    for j, p1 in enumerate(positionList):\n",
    "        distanceMat[i,j] = np.linalg.norm(p-p1)"
   ]
  },
  {
   "cell_type": "code",
   "execution_count": 18,
   "id": "a55a8629-a9dd-49c3-b43b-cf6b703ead3f",
   "metadata": {},
   "outputs": [],
   "source": [
    "distances = np.unique(distanceMat)"
   ]
  },
  {
   "cell_type": "code",
   "execution_count": 19,
   "id": "3533dd40-3b70-4dc7-8d41-a35e7612c5ca",
   "metadata": {},
   "outputs": [],
   "source": [
    "### Here, we calculate the the mean correlation, as a function of distance between electrodes, across trials for the electrodes in each layer\n",
    "\n",
    "mean_per_layer = []\n",
    "sem_per_layer = []\n",
    "\n",
    "for l in range(1):\n",
    "    means = []\n",
    "    sem = []\n",
    "    means_per_distance = []\n",
    "    for d in distances:\n",
    "        idx = np.where(distanceMat==d)\n",
    "        \n",
    "        correlation = correlations_stim[l][:,idx[0],idx[1]]\n",
    "        \n",
    "        means_per_distance.append(correlation)\n",
    "        \n",
    "        means.append(np.nanmean(correlation))\n",
    "        sem.append(np.nanstd(correlation))\n",
    "        \n",
    "    mean_per_layer.append(np.array(means))\n",
    "    sem_per_layer.append(np.array(sem))"
   ]
  },
  {
   "cell_type": "code",
   "execution_count": 22,
   "id": "193e70e3-e8aa-483a-bed8-5274c9e495dc",
   "metadata": {},
   "outputs": [
    {
     "name": "stdout",
     "output_type": "stream",
     "text": [
      "[31.87769979]\n"
     ]
    }
   ],
   "source": [
    "from scipy.optimize import curve_fit\n",
    "\n",
    "# Here, we fit a Gaussian to the average, over all layers, of the distance-correlation function\n",
    "\n",
    "newDistances = np.hstack((-np.flip(distances),distances))\n",
    "newValues = np.hstack((np.flip(np.mean(mean_per_layer,axis=0)),np.mean(mean_per_layer,axis=0)))\n",
    "\n",
    "sigma = curve_fit(gaussian, newDistances, newValues,p0=15)\n",
    "print(sigma[0])"
   ]
  },
  {
   "cell_type": "code",
   "execution_count": 24,
   "id": "c5b91569-123b-4860-b933-140c0c104637",
   "metadata": {},
   "outputs": [
    {
     "data": {
      "application/vnd.jupyter.widget-view+json": {
       "model_id": "ba587225f3654c98b3c73a4832e990d6",
       "version_major": 2,
       "version_minor": 0
      },
      "image/png": "[encoded data removed]",
      "text/html": [
       "\n",
       "            <div style=\"display: inline-block;\">\n",
       "                <div class=\"jupyter-widgets widget-label\" style=\"text-align: center;\">\n",
       "                    Figure\n",
       "                </div>\n",
       "                <img src='data:image/png;base64,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' width=300.0/>\n",
       "            </div>\n",
       "        "
      ],
      "text/plain": [
       "Canvas(toolbar=Toolbar(toolitems=[('Home', 'Reset original view', 'home', 'home'), ('Back', 'Back to previous …"
      ]
     },
     "metadata": {},
     "output_type": "display_data"
    }
   ],
   "source": [
    "# This cell plots Figure 2b\n",
    "\n",
    "plt.figure(figsize=(3,3))\n",
    "for layer in range(1):\n",
    "    plt.plot(distances,mean_per_layer[layer],'-o')\n",
    "\n",
    "plt.plot(distances,gaussian(distances,sigma[0]),'k')\n",
    "\n",
    "plt.legend(['L6','L5','L4','L3','Fit'])\n",
    "plt.xlabel('Distance (um)')\n",
    "plt.ylabel('Correlation coefficient')\n",
    "plt.tight_layout()\n",
    "\n",
    "plt.savefig('correlation.png',dpi=300)"
   ]
  },
  {
   "cell_type": "code",
   "execution_count": null,
   "id": "a46e6dc2-f207-4622-9117-2afbddaf67bd",
   "metadata": {},
   "outputs": [],
   "source": []
  }
 ],
 "metadata": {
  "kernelspec": {
   "display_name": "Python 3 (ipykernel)",
   "language": "python",
   "name": "python3"
  },
  "language_info": {
   "codemirror_mode": {
    "name": "ipython",
    "version": 3
   },
   "file_extension": ".py",
   "mimetype": "text/x-python",
   "name": "python",
   "nbconvert_exporter": "python",
   "pygments_lexer": "ipython3",
   "version": "3.11.6"
  }
 },
 "nbformat": 4,
 "nbformat_minor": 5
}
