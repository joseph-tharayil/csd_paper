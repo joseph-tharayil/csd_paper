{
 "cells": [
  {
   "cell_type": "code",
   "execution_count": 2,
   "id": "f05e86a7-ebb7-4e15-af89-f4a26ee194da",
   "metadata": {},
   "outputs": [],
   "source": [
    "import h5py\n",
    "import numpy as np\n",
    "import matplotlib.pyplot as plt\n",
    "import os\n",
    "import pandas as pd\n",
    "from bluerecording.writeH5 import getSegmentMidpts,sort_electrode_names, getArraySpacing\n",
    "%matplotlib ipympl"
   ]
  },
  {
   "cell_type": "code",
   "execution_count": 3,
   "id": "01efb8f0-fb26-44fc-827d-4a307d411e24",
   "metadata": {},
   "outputs": [],
   "source": [
    "fname = 'csd_paper/electrodes/derivative.h5'"
   ]
  },
  {
   "cell_type": "code",
   "execution_count": 4,
   "id": "ef85fe96-13f8-453a-9ae8-c0876c75719a",
   "metadata": {},
   "outputs": [],
   "source": [
    "f = h5py.File(fname)"
   ]
  },
  {
   "cell_type": "code",
   "execution_count": 5,
   "id": "c922ba46-1b5b-48d3-aea8-c2bfc0b0c296",
   "metadata": {},
   "outputs": [
    {
     "data": {
      "text/plain": [
       "<KeysViewHDF5 ['node_ids', 'offsets']>"
      ]
     },
     "execution_count": 5,
     "metadata": {},
     "output_type": "execute_result"
    }
   ],
   "source": [
    "f['S1nonbarrel_neurons'].keys()"
   ]
  },
  {
   "cell_type": "code",
   "execution_count": 6,
   "id": "23528172-17e1-4586-8487-cb10b32790c6",
   "metadata": {},
   "outputs": [
    {
     "data": {
      "text/plain": [
       "<HDF5 dataset \"scaling_factors\": shape (78575193, 99), type \"<f8\">"
      ]
     },
     "execution_count": 6,
     "metadata": {},
     "output_type": "execute_result"
    }
   ],
   "source": [
    "f['electrodes']['S1nonbarrel_neurons']['scaling_factors']"
   ]
  },
  {
   "cell_type": "code",
   "execution_count": 7,
   "id": "bbbaa509-db87-4d97-896a-30c603cea79d",
   "metadata": {},
   "outputs": [],
   "source": [
    "for dirpath, dirnames, filenames in os.walk('csd_paper/electrodes/positions'):\n",
    "        for filename in filenames[:1]:\n",
    "            file_path = os.path.join(dirpath, filename)\n",
    "            positions = pd.read_pickle(file_path)"
   ]
  },
  {
   "cell_type": "code",
   "execution_count": 8,
   "id": "c5b70974-74ca-47c1-8834-7393ced53f2a",
   "metadata": {},
   "outputs": [],
   "source": [
    "pos = pd.read_pickle(file_path)"
   ]
  },
  {
   "cell_type": "code",
   "execution_count": 9,
   "id": "6310dd69-bcb8-430d-8db5-4c2c8ef59e6a",
   "metadata": {},
   "outputs": [],
   "source": [
    "node_ids = np.unique(np.array(list(pos.columns))[:,0])"
   ]
  },
  {
   "cell_type": "code",
   "execution_count": 10,
   "id": "95dab656-7c67-4c62-89ab-7be24e0dcdab",
   "metadata": {},
   "outputs": [],
   "source": [
    "import time "
   ]
  },
  {
   "cell_type": "code",
   "execution_count": 11,
   "id": "12626892-0439-4a80-98b1-64be290994fc",
   "metadata": {},
   "outputs": [
    {
     "name": "stderr",
     "output_type": "stream",
     "text": [
      "/home/tharayil/BlueRecording/bluerecording/writeH5.py:442: FutureWarning: DataFrame.groupby with axis=1 is deprecated. Do `frame.T.groupby(...)` without axis instead.\n",
      "  newPos = positions.groupby(level=0,axis=1,group_keys=False).apply(getNeuronSegmentMidpts)\n"
     ]
    },
    {
     "name": "stdout",
     "output_type": "stream",
     "text": [
      "0.49953436851501465\n"
     ]
    }
   ],
   "source": [
    "t = time.time()\n",
    "newPos = getSegmentMidpts(pos[node_ids[0:2]],node_ids[0:2])\n",
    "print(time.time()-t)"
   ]
  },
  {
   "cell_type": "code",
   "execution_count": 12,
   "id": "99854afd-df3b-4c66-bbf3-0ef6082342ce",
   "metadata": {},
   "outputs": [],
   "source": [
    "originalFile = h5py.File('csd_paper/electrodes/coeffs_highRes.h5')\n",
    "electrodeNames = sort_electrode_names(originalFile['electrodes'].keys(),'S1nonbarrel_neurons')\n",
    "allEpos = []\n",
    "for e in electrodeNames:\n",
    "    allEpos.append( originalFile['electrodes'][str(e)]['position'][:] )\n",
    "allEpos = np.array(allEpos)\n",
    "originalFile.close()"
   ]
  },
  {
   "cell_type": "code",
   "execution_count": 13,
   "id": "e085b6ba-9081-4fc9-9d14-0e221c7ed69a",
   "metadata": {},
   "outputs": [],
   "source": [
    "allEpos = allEpos[1:-1]"
   ]
  },
  {
   "cell_type": "code",
   "execution_count": 14,
   "id": "e8db1fec-153f-430f-9cae-a4795b63d5e4",
   "metadata": {},
   "outputs": [],
   "source": [
    "main_axis, arraySpacing = getArraySpacing(allEpos)"
   ]
  },
  {
   "cell_type": "code",
   "execution_count": 15,
   "id": "f48d7775-aebd-4cda-821b-2d2871b03ed3",
   "metadata": {},
   "outputs": [],
   "source": [
    "def distances_in_planar_coords(compartment_positions, electrodePos, main_axis):\n",
    "\n",
    "    '''\n",
    "    For a disk or plane perpendicular to main_axis, returns the axial and radial coordinates of each of the compartment positions\n",
    "    '''\n",
    "\n",
    "    from bluerecording.writeH5 import calculate_axial_vectors\n",
    "\n",
    "    ### Projects compartment positions onto plane, containing the point electrodePos, normal to electrode array\n",
    "    differenceVectors = compartment_positions.values - electrodePos[:,np.newaxis]\n",
    "\n",
    "    axialDistances = np.matmul(differenceVectors.T,main_axis) # Size len(compartment_positions)x1\n",
    "\n",
    "    #axialVectors = calculate_axial_vectors(axialDistances,main_axis) # Projection of diffence vector onto the main axis of the electrode array\n",
    "\n",
    "\n",
    "    return axialDistances"
   ]
  },
  {
   "cell_type": "code",
   "execution_count": 16,
   "id": "3b6e46b5-2ad4-4ce2-8478-994204bb2fcc",
   "metadata": {},
   "outputs": [
    {
     "data": {
      "text/plain": [
       "(483, 1)"
      ]
     },
     "execution_count": 16,
     "metadata": {},
     "output_type": "execute_result"
    }
   ],
   "source": [
    "distances_in_planar_coords(newPos[node_ids[0]],allEpos[1],main_axis).shape"
   ]
  },
  {
   "cell_type": "code",
   "execution_count": 17,
   "id": "736a3c9d-b24b-44c2-a2d7-871b124f981f",
   "metadata": {},
   "outputs": [],
   "source": [
    "import bluepysnap as bp"
   ]
  },
  {
   "cell_type": "code",
   "execution_count": 18,
   "id": "7a7d1c5c-dbaa-4ade-ab80-0133c8e23774",
   "metadata": {},
   "outputs": [],
   "source": [
    "c = bp.Simulation('/work/lnmc/EEG/original/fixed/a9f782a3-1f22-4384-a122-430bc6b2323c/0/simulation_config.json')"
   ]
  },
  {
   "cell_type": "code",
   "execution_count": 19,
   "id": "adb96b89-4ee6-4d57-9d6b-0f9e4e15f4a6",
   "metadata": {},
   "outputs": [],
   "source": [
    "hex0 = next(c.circuit.nodes.get('hex0',properties=['mtype']))"
   ]
  },
  {
   "cell_type": "code",
   "execution_count": 20,
   "id": "7740c782-2f6d-4c3b-8e67-485b32fc75f9",
   "metadata": {},
   "outputs": [],
   "source": [
    "hex0Ids = np.array(hex0[1].loc['S1nonbarrel_neurons'].index)"
   ]
  },
  {
   "cell_type": "code",
   "execution_count": 131,
   "id": "9e253ccc-b377-4807-b513-c26510c23e91",
   "metadata": {},
   "outputs": [
    {
     "data": {
      "text/plain": [
       "array([False])"
      ]
     },
     "execution_count": 131,
     "metadata": {},
     "output_type": "execute_result"
    }
   ],
   "source": [
    "newNodeIds"
   ]
  },
  {
   "cell_type": "code",
   "execution_count": null,
   "id": "1413edad-4b50-4e69-9c6b-d8827b31ccf1",
   "metadata": {},
   "outputs": [
    {
     "name": "stderr",
     "output_type": "stream",
     "text": [
      "/home/tharayil/BlueRecording/bluerecording/writeH5.py:442: FutureWarning: DataFrame.groupby with axis=1 is deprecated. Do `frame.T.groupby(...)` without axis instead.\n",
      "  newPos = positions.groupby(level=0,axis=1,group_keys=False).apply(getNeuronSegmentMidpts)\n",
      "/home/tharayil/BlueRecording/bluerecording/writeH5.py:442: FutureWarning: DataFrame.groupby with axis=1 is deprecated. Do `frame.T.groupby(...)` without axis instead.\n",
      "  newPos = positions.groupby(level=0,axis=1,group_keys=False).apply(getNeuronSegmentMidpts)\n",
      "/home/tharayil/BlueRecording/bluerecording/writeH5.py:442: FutureWarning: DataFrame.groupby with axis=1 is deprecated. Do `frame.T.groupby(...)` without axis instead.\n",
      "  newPos = positions.groupby(level=0,axis=1,group_keys=False).apply(getNeuronSegmentMidpts)\n",
      "/home/tharayil/BlueRecording/bluerecording/writeH5.py:442: FutureWarning: DataFrame.groupby with axis=1 is deprecated. Do `frame.T.groupby(...)` without axis instead.\n",
      "  newPos = positions.groupby(level=0,axis=1,group_keys=False).apply(getNeuronSegmentMidpts)\n",
      "/home/tharayil/BlueRecording/bluerecording/writeH5.py:442: FutureWarning: DataFrame.groupby with axis=1 is deprecated. Do `frame.T.groupby(...)` without axis instead.\n",
      "  newPos = positions.groupby(level=0,axis=1,group_keys=False).apply(getNeuronSegmentMidpts)\n",
      "/home/tharayil/BlueRecording/bluerecording/writeH5.py:442: FutureWarning: DataFrame.groupby with axis=1 is deprecated. Do `frame.T.groupby(...)` without axis instead.\n",
      "  newPos = positions.groupby(level=0,axis=1,group_keys=False).apply(getNeuronSegmentMidpts)\n",
      "/home/tharayil/BlueRecording/bluerecording/writeH5.py:442: FutureWarning: DataFrame.groupby with axis=1 is deprecated. Do `frame.T.groupby(...)` without axis instead.\n",
      "  newPos = positions.groupby(level=0,axis=1,group_keys=False).apply(getNeuronSegmentMidpts)\n"
     ]
    }
   ],
   "source": [
    "\n",
    "\n",
    "electrodeIndices = [10]#[10,50,90]\n",
    "allDistances = []\n",
    "allCsdCoeffs = []\n",
    "\n",
    "for electrodeIdx in electrodeIndices:\n",
    "    csdCoeffs = []\n",
    "    distances = []\n",
    "\n",
    "    numFiles = 0\n",
    "\n",
    "    for dirpath, dirnames, filenames in os.walk('csd_paper/electrodes/positions'):\n",
    "            for filename in filenames:\n",
    "                \n",
    "                file_path = os.path.join(dirpath, filename)\n",
    "                positions = pd.read_pickle(file_path)\n",
    "                \n",
    "                node_ids = np.unique(np.array(list(positions.columns))[:,0])\n",
    "\n",
    "                node_ids = node_ids[np.isin(node_ids,hex0Ids)]\n",
    "\n",
    "                if len(node_ids) < 200:\n",
    "\n",
    "                    newNodeIds = node_ids\n",
    "                else:\n",
    "    \n",
    "                    newNodeIds = node_ids[:1]\n",
    "                \n",
    "                newPos = getSegmentMidpts(positions[newNodeIds],newNodeIds)\n",
    "    \n",
    "                for ids in newNodeIds:\n",
    "    \n",
    "                    nodeIndex = np.where(f['S1nonbarrel_neurons']['node_ids']==ids)[0][0]\n",
    "    \n",
    "                    offset = f['S1nonbarrel_neurons']['offsets'][nodeIndex]\n",
    "                    offset1 = f['S1nonbarrel_neurons']['offsets'][nodeIndex+1]\n",
    "                    \n",
    "                    distances.append(distances_in_planar_coords(newPos[ids],allEpos[electrodeIdx],main_axis))\n",
    "                    \n",
    "                    csdCoeffs.append(f['electrodes']['S1nonbarrel_neurons']['scaling_factors'][offset:offset1,electrodeIdx])   \n",
    "\n",
    "                numFiles += 1\n",
    "                if numFiles % 10 == 0:\n",
    "                    print(numFiles)\n",
    "\n",
    "    allCsdCoeffs.append(csdCoeffs)\n",
    "    allDistances.append(distances)\n",
    "    \n",
    "            "
   ]
  },
  {
   "cell_type": "code",
   "execution_count": 82,
   "id": "03e3536e-48be-4610-8a4b-140ffc813d66",
   "metadata": {},
   "outputs": [
    {
     "data": {
      "text/plain": [
       "212"
      ]
     },
     "execution_count": 82,
     "metadata": {},
     "output_type": "execute_result"
    }
   ],
   "source": [
    "len(distances)"
   ]
  },
  {
   "cell_type": "code",
   "execution_count": 83,
   "id": "d2eb68bb-3640-4822-8a19-0f4befbe691c",
   "metadata": {},
   "outputs": [
    {
     "data": {
      "text/plain": [
       "212"
      ]
     },
     "execution_count": 83,
     "metadata": {},
     "output_type": "execute_result"
    }
   ],
   "source": [
    "len(csdCoeffs)"
   ]
  },
  {
   "cell_type": "code",
   "execution_count": 84,
   "id": "b065545e-4420-4bbc-89c6-db2866014966",
   "metadata": {},
   "outputs": [
    {
     "data": {
      "text/plain": [
       "101"
      ]
     },
     "execution_count": 84,
     "metadata": {},
     "output_type": "execute_result"
    }
   ],
   "source": [
    "len(distances[0])"
   ]
  },
  {
   "cell_type": "code",
   "execution_count": 85,
   "id": "0f6b309b-0771-4756-8eb8-9fdb72c2b0a8",
   "metadata": {},
   "outputs": [
    {
     "data": {
      "text/plain": [
       "101"
      ]
     },
     "execution_count": 85,
     "metadata": {},
     "output_type": "execute_result"
    }
   ],
   "source": [
    "len(csdCoeffs[0])"
   ]
  },
  {
   "cell_type": "code",
   "execution_count": 143,
   "id": "f385ee2a-6a1f-45a0-aa22-e9c0d13227cf",
   "metadata": {},
   "outputs": [],
   "source": [
    "distances = allDistances[0]\n",
    "csdCoeffs = allCsdCoeffs[0]"
   ]
  },
  {
   "cell_type": "code",
   "execution_count": 144,
   "id": "1be87a09-ebe7-42a2-b314-962036980a4c",
   "metadata": {},
   "outputs": [
    {
     "name": "stderr",
     "output_type": "stream",
     "text": [
      "/tmp/ipykernel_3402037/775644983.py:1: VisibleDeprecationWarning: Creating an ndarray from ragged nested sequences (which is a list-or-tuple of lists-or-tuples-or ndarrays with different lengths or shapes) is deprecated. If you meant to do this, you must specify 'dtype=object' when creating the ndarray.\n",
      "  distances = np.array(distances)\n",
      "/tmp/ipykernel_3402037/775644983.py:2: VisibleDeprecationWarning: Creating an ndarray from ragged nested sequences (which is a list-or-tuple of lists-or-tuples-or ndarrays with different lengths or shapes) is deprecated. If you meant to do this, you must specify 'dtype=object' when creating the ndarray.\n",
      "  csdCoeffs = np.array(csdCoeffs)\n"
     ]
    }
   ],
   "source": [
    "distances = np.array(distances)\n",
    "csdCoeffs = np.array(csdCoeffs)"
   ]
  },
  {
   "cell_type": "code",
   "execution_count": 145,
   "id": "a4ebc408-4170-4845-91a0-7dc2c0d7819a",
   "metadata": {},
   "outputs": [],
   "source": [
    "newDistances = distances[0]\n",
    "for d in distances[1:]:\n",
    "    newDistances = np.vstack((newDistances,d))"
   ]
  },
  {
   "cell_type": "code",
   "execution_count": 146,
   "id": "9fbdefd1-90e1-4ed7-8a54-0bdb73ac3199",
   "metadata": {},
   "outputs": [],
   "source": [
    "newcoeffs = csdCoeffs[0][:,np.newaxis]\n",
    "for c in csdCoeffs[1:]:\n",
    "    newcoeffs = np.vstack((newcoeffs,c[:,np.newaxis]))"
   ]
  },
  {
   "cell_type": "code",
   "execution_count": 1,
   "id": "d64bc24a-3fcc-4803-922a-253e2a5a46af",
   "metadata": {},
   "outputs": [
    {
     "ename": "NameError",
     "evalue": "name 'plt' is not defined",
     "output_type": "error",
     "traceback": [
      "\u001b[0;31m---------------------------------------------------------------------------\u001b[0m",
      "\u001b[0;31mNameError\u001b[0m                                 Traceback (most recent call last)",
      "Cell \u001b[0;32mIn[1], line 1\u001b[0m\n\u001b[0;32m----> 1\u001b[0m \u001b[43mplt\u001b[49m\u001b[38;5;241m.\u001b[39mfigure()\n\u001b[1;32m      2\u001b[0m plt\u001b[38;5;241m.\u001b[39mhist2d(newcoeffs[:,\u001b[38;5;241m0\u001b[39m],newDistances[:,\u001b[38;5;241m0\u001b[39m]\u001b[38;5;241m/\u001b[39m\u001b[38;5;241m20\u001b[39m,bins\u001b[38;5;241m=\u001b[39m[\u001b[38;5;241m10000\u001b[39m,\u001b[38;5;241m1000\u001b[39m],cmin\u001b[38;5;241m=\u001b[39m\u001b[38;5;241m0\u001b[39m,cmax\u001b[38;5;241m=\u001b[39m\u001b[38;5;241m1\u001b[39m)\n\u001b[1;32m      3\u001b[0m plt\u001b[38;5;241m.\u001b[39mxlim([\u001b[38;5;241m-\u001b[39m\u001b[38;5;241m1e-6\u001b[39m,\u001b[38;5;241m2e-6\u001b[39m])\n",
      "\u001b[0;31mNameError\u001b[0m: name 'plt' is not defined"
     ]
    }
   ],
   "source": [
    "plt.figure()\n",
    "plt.hist2d(newcoeffs[:,0],newDistances[:,0]/20,bins=[10000,1000],cmin=0,cmax=1)\n",
    "plt.xlim([-1e-6,2e-6])\n",
    "plt.ylim([-10,10])\n",
    "plt.colorbar()"
   ]
  },
  {
   "cell_type": "code",
   "execution_count": null,
   "id": "6397c05d-1df5-4734-a720-a63c1fc4c3a4",
   "metadata": {},
   "outputs": [],
   "source": [
    "hist, xbins, ybins = np.histogram2d(newcoeffs[:,0],newDistances[:,0]/20,bins=[10000,1000])"
   ]
  },
  {
   "cell_type": "code",
   "execution_count": null,
   "id": "b6ad4482-1360-4587-8dfe-331395afe39d",
   "metadata": {},
   "outputs": [],
   "source": [
    "len(newcoeffs)/1000/30000"
   ]
  },
  {
   "cell_type": "code",
   "execution_count": null,
   "id": "5cf1ce41-0142-42c9-8540-994e3f123adb",
   "metadata": {},
   "outputs": [],
   "source": [
    "xvals = (xbins[1:]+xbins[:-1])/2"
   ]
  },
  {
   "cell_type": "code",
   "execution_count": null,
   "id": "e08bb802-3b50-4fbc-8811-e89cb809a257",
   "metadata": {},
   "outputs": [],
   "source": [
    "yvals = (ybins[1:]+ybins[:-1])/2"
   ]
  },
  {
   "cell_type": "code",
   "execution_count": null,
   "id": "39ddd468-0fa2-473e-aa9c-adfdd3f5cc9b",
   "metadata": {},
   "outputs": [],
   "source": [
    "plt.figure()\n",
    "plt.plot(np.sum(hist*xvals[:,np.newaxis],axis=0),yvals)"
   ]
  },
  {
   "cell_type": "code",
   "execution_count": 45,
   "id": "699b67fb-ec73-442e-865f-047cf1cf8abd",
   "metadata": {},
   "outputs": [
    {
     "data": {
      "text/plain": [
       "<matplotlib.colorbar.Colorbar at 0x7f28866c75e0>"
      ]
     },
     "execution_count": 45,
     "metadata": {},
     "output_type": "execute_result"
    },
    {
     "data": {
      "application/vnd.jupyter.widget-view+json": {
       "model_id": "73aa85a36d5e4750afe79bef78b4314f",
       "version_major": 2,
       "version_minor": 0
      },
      "image/png": "[encoded data removed]",
      "text/html": [
       "\n",
       "            <div style=\"display: inline-block;\">\n",
       "                <div class=\"jupyter-widgets widget-label\" style=\"text-align: center;\">\n",
       "                    Figure\n",
       "                </div>\n",
       "                <img src='data:image/png;base64,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' width=640.0/>\n",
       "            </div>\n",
       "        "
      ],
      "text/plain": [
       "Canvas(toolbar=Toolbar(toolitems=[('Home', 'Reset original view', 'home', 'home'), ('Back', 'Back to previous …"
      ]
     },
     "metadata": {},
     "output_type": "display_data"
    }
   ],
   "source": [
    "plt.figure()\n",
    "plt.hist2d(newcoeffs[:,0],newDistances[:,0]/20,bins=[10000,1000],cmin=0,cmax=1)\n",
    "plt.xlim([-2e-7,2e-7])\n",
    "plt.ylim([-40,40])\n",
    "plt.colorbar()"
   ]
  },
  {
   "cell_type": "code",
   "execution_count": 28,
   "id": "27ccd47d-1493-43c7-a941-7434f77dc3fa",
   "metadata": {},
   "outputs": [
    {
     "data": {
      "text/plain": [
       "<matplotlib.colorbar.Colorbar at 0x7f28853d0790>"
      ]
     },
     "execution_count": 28,
     "metadata": {},
     "output_type": "execute_result"
    },
    {
     "data": {
      "application/vnd.jupyter.widget-view+json": {
       "model_id": "824beb58809947fdb4c67fe4dc0be3eb",
       "version_major": 2,
       "version_minor": 0
      },
      "image/png": "[encoded data removed]",
      "text/html": [
       "\n",
       "            <div style=\"display: inline-block;\">\n",
       "                <div class=\"jupyter-widgets widget-label\" style=\"text-align: center;\">\n",
       "                    Figure\n",
       "                </div>\n",
       "                <img src='data:image/png;base64,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' width=640.0/>\n",
       "            </div>\n",
       "        "
      ],
      "text/plain": [
       "Canvas(toolbar=Toolbar(toolitems=[('Home', 'Reset original view', 'home', 'home'), ('Back', 'Back to previous …"
      ]
     },
     "metadata": {},
     "output_type": "display_data"
    }
   ],
   "source": [
    "plt.figure()\n",
    "plt.hist2d(newcoeffs[:,0],newDistances[:,0]/20,bins=[10000,1000],cmin=0,cmax=200)\n",
    "plt.xlim([-1e-9,1e-9])\n",
    "plt.ylim([-50,50])\n",
    "plt.colorbar()"
   ]
  },
  {
   "cell_type": "code",
   "execution_count": 25,
   "id": "4c92eff5-32bc-4f00-af91-a3547cc2ee21",
   "metadata": {},
   "outputs": [
    {
     "data": {
      "text/plain": [
       "(array([1.00000e+00, 0.00000e+00, 0.00000e+00, 0.00000e+00, 0.00000e+00,\n",
       "        0.00000e+00, 0.00000e+00, 0.00000e+00, 0.00000e+00, 0.00000e+00,\n",
       "        0.00000e+00, 0.00000e+00, 0.00000e+00, 0.00000e+00, 0.00000e+00,\n",
       "        0.00000e+00, 0.00000e+00, 0.00000e+00, 0.00000e+00, 0.00000e+00,\n",
       "        0.00000e+00, 0.00000e+00, 0.00000e+00, 0.00000e+00, 0.00000e+00,\n",
       "        0.00000e+00, 0.00000e+00, 0.00000e+00, 0.00000e+00, 0.00000e+00,\n",
       "        0.00000e+00, 0.00000e+00, 0.00000e+00, 0.00000e+00, 0.00000e+00,\n",
       "        0.00000e+00, 0.00000e+00, 0.00000e+00, 0.00000e+00, 0.00000e+00,\n",
       "        0.00000e+00, 0.00000e+00, 0.00000e+00, 0.00000e+00, 0.00000e+00,\n",
       "        0.00000e+00, 0.00000e+00, 0.00000e+00, 0.00000e+00, 0.00000e+00,\n",
       "        0.00000e+00, 0.00000e+00, 0.00000e+00, 0.00000e+00, 0.00000e+00,\n",
       "        0.00000e+00, 0.00000e+00, 0.00000e+00, 0.00000e+00, 0.00000e+00,\n",
       "        0.00000e+00, 0.00000e+00, 0.00000e+00, 0.00000e+00, 0.00000e+00,\n",
       "        0.00000e+00, 0.00000e+00, 0.00000e+00, 0.00000e+00, 0.00000e+00,\n",
       "        0.00000e+00, 0.00000e+00, 0.00000e+00, 0.00000e+00, 0.00000e+00,\n",
       "        0.00000e+00, 0.00000e+00, 0.00000e+00, 0.00000e+00, 0.00000e+00,\n",
       "        0.00000e+00, 0.00000e+00, 0.00000e+00, 0.00000e+00, 0.00000e+00,\n",
       "        0.00000e+00, 0.00000e+00, 0.00000e+00, 0.00000e+00, 0.00000e+00,\n",
       "        0.00000e+00, 0.00000e+00, 0.00000e+00, 0.00000e+00, 0.00000e+00,\n",
       "        0.00000e+00, 0.00000e+00, 0.00000e+00, 0.00000e+00, 0.00000e+00,\n",
       "        0.00000e+00, 0.00000e+00, 0.00000e+00, 0.00000e+00, 0.00000e+00,\n",
       "        0.00000e+00, 0.00000e+00, 0.00000e+00, 0.00000e+00, 0.00000e+00,\n",
       "        0.00000e+00, 0.00000e+00, 0.00000e+00, 0.00000e+00, 0.00000e+00,\n",
       "        0.00000e+00, 0.00000e+00, 0.00000e+00, 0.00000e+00, 0.00000e+00,\n",
       "        0.00000e+00, 0.00000e+00, 0.00000e+00, 0.00000e+00, 0.00000e+00,\n",
       "        0.00000e+00, 0.00000e+00, 0.00000e+00, 0.00000e+00, 0.00000e+00,\n",
       "        0.00000e+00, 0.00000e+00, 0.00000e+00, 0.00000e+00, 0.00000e+00,\n",
       "        0.00000e+00, 0.00000e+00, 0.00000e+00, 0.00000e+00, 0.00000e+00,\n",
       "        0.00000e+00, 0.00000e+00, 0.00000e+00, 0.00000e+00, 0.00000e+00,\n",
       "        0.00000e+00, 0.00000e+00, 0.00000e+00, 0.00000e+00, 0.00000e+00,\n",
       "        0.00000e+00, 0.00000e+00, 0.00000e+00, 0.00000e+00, 0.00000e+00,\n",
       "        0.00000e+00, 0.00000e+00, 0.00000e+00, 0.00000e+00, 0.00000e+00,\n",
       "        0.00000e+00, 0.00000e+00, 0.00000e+00, 0.00000e+00, 0.00000e+00,\n",
       "        0.00000e+00, 0.00000e+00, 0.00000e+00, 0.00000e+00, 0.00000e+00,\n",
       "        0.00000e+00, 0.00000e+00, 0.00000e+00, 0.00000e+00, 0.00000e+00,\n",
       "        0.00000e+00, 0.00000e+00, 0.00000e+00, 0.00000e+00, 0.00000e+00,\n",
       "        0.00000e+00, 0.00000e+00, 0.00000e+00, 0.00000e+00, 0.00000e+00,\n",
       "        0.00000e+00, 0.00000e+00, 0.00000e+00, 0.00000e+00, 0.00000e+00,\n",
       "        0.00000e+00, 0.00000e+00, 0.00000e+00, 0.00000e+00, 0.00000e+00,\n",
       "        0.00000e+00, 0.00000e+00, 0.00000e+00, 0.00000e+00, 0.00000e+00,\n",
       "        0.00000e+00, 0.00000e+00, 0.00000e+00, 0.00000e+00, 1.00000e+00,\n",
       "        0.00000e+00, 0.00000e+00, 0.00000e+00, 0.00000e+00, 0.00000e+00,\n",
       "        0.00000e+00, 0.00000e+00, 0.00000e+00, 0.00000e+00, 0.00000e+00,\n",
       "        0.00000e+00, 0.00000e+00, 0.00000e+00, 1.00000e+00, 0.00000e+00,\n",
       "        0.00000e+00, 0.00000e+00, 0.00000e+00, 0.00000e+00, 0.00000e+00,\n",
       "        0.00000e+00, 0.00000e+00, 0.00000e+00, 0.00000e+00, 0.00000e+00,\n",
       "        0.00000e+00, 0.00000e+00, 0.00000e+00, 0.00000e+00, 0.00000e+00,\n",
       "        0.00000e+00, 0.00000e+00, 0.00000e+00, 0.00000e+00, 0.00000e+00,\n",
       "        0.00000e+00, 0.00000e+00, 0.00000e+00, 0.00000e+00, 0.00000e+00,\n",
       "        0.00000e+00, 0.00000e+00, 0.00000e+00, 0.00000e+00, 0.00000e+00,\n",
       "        0.00000e+00, 0.00000e+00, 0.00000e+00, 0.00000e+00, 0.00000e+00,\n",
       "        0.00000e+00, 0.00000e+00, 0.00000e+00, 0.00000e+00, 0.00000e+00,\n",
       "        0.00000e+00, 0.00000e+00, 0.00000e+00, 0.00000e+00, 0.00000e+00,\n",
       "        0.00000e+00, 0.00000e+00, 1.00000e+00, 0.00000e+00, 0.00000e+00,\n",
       "        0.00000e+00, 0.00000e+00, 0.00000e+00, 0.00000e+00, 0.00000e+00,\n",
       "        0.00000e+00, 0.00000e+00, 0.00000e+00, 0.00000e+00, 0.00000e+00,\n",
       "        0.00000e+00, 0.00000e+00, 0.00000e+00, 0.00000e+00, 0.00000e+00,\n",
       "        0.00000e+00, 0.00000e+00, 0.00000e+00, 0.00000e+00, 0.00000e+00,\n",
       "        0.00000e+00, 0.00000e+00, 0.00000e+00, 0.00000e+00, 0.00000e+00,\n",
       "        0.00000e+00, 0.00000e+00, 0.00000e+00, 0.00000e+00, 0.00000e+00,\n",
       "        0.00000e+00, 0.00000e+00, 1.00000e+00, 0.00000e+00, 0.00000e+00,\n",
       "        0.00000e+00, 1.00000e+00, 0.00000e+00, 0.00000e+00, 0.00000e+00,\n",
       "        0.00000e+00, 0.00000e+00, 1.00000e+00, 0.00000e+00, 0.00000e+00,\n",
       "        0.00000e+00, 0.00000e+00, 0.00000e+00, 0.00000e+00, 0.00000e+00,\n",
       "        0.00000e+00, 0.00000e+00, 0.00000e+00, 0.00000e+00, 0.00000e+00,\n",
       "        0.00000e+00, 0.00000e+00, 0.00000e+00, 0.00000e+00, 0.00000e+00,\n",
       "        0.00000e+00, 0.00000e+00, 0.00000e+00, 0.00000e+00, 0.00000e+00,\n",
       "        0.00000e+00, 0.00000e+00, 0.00000e+00, 0.00000e+00, 0.00000e+00,\n",
       "        0.00000e+00, 0.00000e+00, 0.00000e+00, 0.00000e+00, 0.00000e+00,\n",
       "        0.00000e+00, 0.00000e+00, 0.00000e+00, 0.00000e+00, 0.00000e+00,\n",
       "        0.00000e+00, 0.00000e+00, 0.00000e+00, 0.00000e+00, 0.00000e+00,\n",
       "        0.00000e+00, 0.00000e+00, 0.00000e+00, 0.00000e+00, 0.00000e+00,\n",
       "        0.00000e+00, 0.00000e+00, 0.00000e+00, 0.00000e+00, 0.00000e+00,\n",
       "        0.00000e+00, 0.00000e+00, 0.00000e+00, 0.00000e+00, 0.00000e+00,\n",
       "        0.00000e+00, 0.00000e+00, 0.00000e+00, 0.00000e+00, 0.00000e+00,\n",
       "        0.00000e+00, 0.00000e+00, 0.00000e+00, 0.00000e+00, 1.00000e+00,\n",
       "        0.00000e+00, 0.00000e+00, 0.00000e+00, 0.00000e+00, 0.00000e+00,\n",
       "        0.00000e+00, 0.00000e+00, 0.00000e+00, 1.00000e+00, 0.00000e+00,\n",
       "        1.00000e+00, 1.00000e+00, 0.00000e+00, 0.00000e+00, 0.00000e+00,\n",
       "        1.00000e+00, 0.00000e+00, 0.00000e+00, 0.00000e+00, 0.00000e+00,\n",
       "        2.00000e+00, 1.00000e+00, 0.00000e+00, 0.00000e+00, 1.00000e+00,\n",
       "        0.00000e+00, 3.00000e+00, 0.00000e+00, 0.00000e+00, 1.00000e+00,\n",
       "        1.00000e+00, 0.00000e+00, 1.00000e+00, 0.00000e+00, 0.00000e+00,\n",
       "        2.00000e+00, 0.00000e+00, 1.00000e+00, 0.00000e+00, 2.00000e+00,\n",
       "        2.00000e+00, 2.00000e+00, 4.00000e+00, 2.00000e+00, 2.00000e+00,\n",
       "        3.00000e+00, 3.00000e+00, 7.00000e+00, 2.00000e+00, 3.00000e+00,\n",
       "        4.00000e+00, 1.00000e+00, 9.00000e+00, 8.00000e+00, 5.00000e+00,\n",
       "        6.00000e+00, 9.00000e+00, 3.00000e+00, 1.00000e+01, 1.00000e+01,\n",
       "        5.00000e+00, 2.00000e+01, 2.30000e+01, 2.50000e+01, 2.40000e+01,\n",
       "        4.10000e+01, 5.40000e+01, 1.09000e+02, 1.67000e+02, 6.03000e+02,\n",
       "        5.41300e+03, 1.47133e+05, 8.26000e+02, 2.27000e+02, 9.70000e+01,\n",
       "        5.90000e+01, 4.40000e+01, 4.30000e+01, 2.50000e+01, 1.80000e+01,\n",
       "        1.30000e+01, 5.00000e+00, 6.00000e+00, 1.00000e+01, 7.00000e+00,\n",
       "        7.00000e+00, 4.00000e+00, 4.00000e+00, 6.00000e+00, 4.00000e+00,\n",
       "        2.00000e+00, 1.00000e+00, 1.00000e+00, 4.00000e+00, 3.00000e+00,\n",
       "        0.00000e+00, 1.00000e+00, 1.00000e+00, 1.00000e+00, 0.00000e+00,\n",
       "        0.00000e+00, 0.00000e+00, 1.00000e+00, 0.00000e+00, 1.00000e+00,\n",
       "        0.00000e+00, 2.00000e+00, 1.00000e+00, 1.00000e+00, 1.00000e+00,\n",
       "        2.00000e+00, 1.00000e+00, 0.00000e+00, 0.00000e+00, 0.00000e+00,\n",
       "        1.00000e+00, 1.00000e+00, 0.00000e+00, 0.00000e+00, 0.00000e+00,\n",
       "        0.00000e+00, 2.00000e+00, 1.00000e+00, 0.00000e+00, 0.00000e+00,\n",
       "        0.00000e+00, 1.00000e+00, 0.00000e+00, 0.00000e+00, 0.00000e+00,\n",
       "        0.00000e+00, 0.00000e+00, 0.00000e+00, 0.00000e+00, 0.00000e+00,\n",
       "        0.00000e+00, 1.00000e+00, 0.00000e+00, 0.00000e+00, 1.00000e+00,\n",
       "        0.00000e+00, 0.00000e+00, 0.00000e+00, 0.00000e+00, 0.00000e+00,\n",
       "        0.00000e+00, 0.00000e+00, 0.00000e+00, 0.00000e+00, 0.00000e+00,\n",
       "        0.00000e+00, 0.00000e+00, 0.00000e+00, 0.00000e+00, 0.00000e+00,\n",
       "        0.00000e+00, 0.00000e+00, 0.00000e+00, 0.00000e+00, 0.00000e+00,\n",
       "        0.00000e+00, 1.00000e+00, 0.00000e+00, 0.00000e+00, 0.00000e+00,\n",
       "        0.00000e+00, 0.00000e+00, 0.00000e+00, 0.00000e+00, 0.00000e+00,\n",
       "        0.00000e+00, 0.00000e+00, 0.00000e+00, 0.00000e+00, 1.00000e+00,\n",
       "        0.00000e+00, 0.00000e+00, 0.00000e+00, 0.00000e+00, 0.00000e+00,\n",
       "        0.00000e+00, 0.00000e+00, 0.00000e+00, 0.00000e+00, 0.00000e+00,\n",
       "        0.00000e+00, 0.00000e+00, 1.00000e+00, 0.00000e+00, 1.00000e+00,\n",
       "        1.00000e+00, 0.00000e+00, 0.00000e+00, 1.00000e+00, 0.00000e+00,\n",
       "        0.00000e+00, 1.00000e+00, 0.00000e+00, 0.00000e+00, 0.00000e+00,\n",
       "        0.00000e+00, 0.00000e+00, 0.00000e+00, 0.00000e+00, 0.00000e+00,\n",
       "        0.00000e+00, 0.00000e+00, 0.00000e+00, 0.00000e+00, 0.00000e+00,\n",
       "        0.00000e+00, 0.00000e+00, 1.00000e+00, 0.00000e+00, 0.00000e+00,\n",
       "        0.00000e+00, 0.00000e+00, 0.00000e+00, 0.00000e+00, 0.00000e+00,\n",
       "        0.00000e+00, 0.00000e+00, 0.00000e+00, 0.00000e+00, 0.00000e+00,\n",
       "        0.00000e+00, 0.00000e+00, 0.00000e+00, 0.00000e+00, 0.00000e+00,\n",
       "        0.00000e+00, 0.00000e+00, 0.00000e+00, 0.00000e+00, 1.00000e+00,\n",
       "        0.00000e+00, 0.00000e+00, 0.00000e+00, 0.00000e+00, 0.00000e+00,\n",
       "        0.00000e+00, 0.00000e+00, 0.00000e+00, 0.00000e+00, 0.00000e+00,\n",
       "        0.00000e+00, 0.00000e+00, 0.00000e+00, 0.00000e+00, 0.00000e+00,\n",
       "        0.00000e+00, 0.00000e+00, 0.00000e+00, 0.00000e+00, 0.00000e+00,\n",
       "        0.00000e+00, 0.00000e+00, 0.00000e+00, 0.00000e+00, 0.00000e+00,\n",
       "        0.00000e+00, 0.00000e+00, 0.00000e+00, 0.00000e+00, 0.00000e+00,\n",
       "        0.00000e+00, 0.00000e+00, 0.00000e+00, 0.00000e+00, 0.00000e+00,\n",
       "        0.00000e+00, 0.00000e+00, 0.00000e+00, 0.00000e+00, 0.00000e+00,\n",
       "        0.00000e+00, 0.00000e+00, 0.00000e+00, 0.00000e+00, 0.00000e+00,\n",
       "        0.00000e+00, 0.00000e+00, 0.00000e+00, 0.00000e+00, 0.00000e+00,\n",
       "        0.00000e+00, 0.00000e+00, 0.00000e+00, 0.00000e+00, 0.00000e+00,\n",
       "        0.00000e+00, 0.00000e+00, 0.00000e+00, 0.00000e+00, 0.00000e+00,\n",
       "        0.00000e+00, 0.00000e+00, 0.00000e+00, 0.00000e+00, 0.00000e+00,\n",
       "        0.00000e+00, 0.00000e+00, 0.00000e+00, 0.00000e+00, 0.00000e+00,\n",
       "        0.00000e+00, 0.00000e+00, 0.00000e+00, 0.00000e+00, 0.00000e+00,\n",
       "        0.00000e+00, 0.00000e+00, 0.00000e+00, 0.00000e+00, 0.00000e+00,\n",
       "        0.00000e+00, 0.00000e+00, 0.00000e+00, 0.00000e+00, 0.00000e+00,\n",
       "        0.00000e+00, 0.00000e+00, 0.00000e+00, 0.00000e+00, 0.00000e+00,\n",
       "        0.00000e+00, 0.00000e+00, 0.00000e+00, 0.00000e+00, 0.00000e+00,\n",
       "        0.00000e+00, 0.00000e+00, 0.00000e+00, 0.00000e+00, 0.00000e+00,\n",
       "        0.00000e+00, 0.00000e+00, 0.00000e+00, 0.00000e+00, 0.00000e+00,\n",
       "        0.00000e+00, 0.00000e+00, 0.00000e+00, 0.00000e+00, 1.00000e+00,\n",
       "        0.00000e+00, 0.00000e+00, 0.00000e+00, 0.00000e+00, 0.00000e+00,\n",
       "        0.00000e+00, 0.00000e+00, 0.00000e+00, 0.00000e+00, 0.00000e+00,\n",
       "        0.00000e+00, 0.00000e+00, 0.00000e+00, 0.00000e+00, 0.00000e+00,\n",
       "        0.00000e+00, 0.00000e+00, 0.00000e+00, 0.00000e+00, 0.00000e+00,\n",
       "        0.00000e+00, 0.00000e+00, 0.00000e+00, 0.00000e+00, 0.00000e+00,\n",
       "        0.00000e+00, 0.00000e+00, 0.00000e+00, 0.00000e+00, 0.00000e+00,\n",
       "        1.00000e+00, 0.00000e+00, 0.00000e+00, 0.00000e+00, 0.00000e+00,\n",
       "        0.00000e+00, 0.00000e+00, 1.00000e+00, 0.00000e+00, 0.00000e+00,\n",
       "        0.00000e+00, 0.00000e+00, 0.00000e+00, 0.00000e+00, 0.00000e+00,\n",
       "        0.00000e+00, 0.00000e+00, 0.00000e+00, 0.00000e+00, 0.00000e+00,\n",
       "        0.00000e+00, 0.00000e+00, 0.00000e+00, 0.00000e+00, 0.00000e+00,\n",
       "        0.00000e+00, 0.00000e+00, 0.00000e+00, 0.00000e+00, 0.00000e+00,\n",
       "        0.00000e+00, 0.00000e+00, 0.00000e+00, 0.00000e+00, 0.00000e+00,\n",
       "        0.00000e+00, 0.00000e+00, 0.00000e+00, 0.00000e+00, 0.00000e+00,\n",
       "        0.00000e+00, 0.00000e+00, 0.00000e+00, 0.00000e+00, 0.00000e+00,\n",
       "        0.00000e+00, 0.00000e+00, 0.00000e+00, 0.00000e+00, 0.00000e+00,\n",
       "        0.00000e+00, 1.00000e+00, 0.00000e+00, 0.00000e+00, 0.00000e+00,\n",
       "        0.00000e+00, 0.00000e+00, 0.00000e+00, 0.00000e+00, 0.00000e+00,\n",
       "        0.00000e+00, 0.00000e+00, 0.00000e+00, 0.00000e+00, 0.00000e+00,\n",
       "        0.00000e+00, 0.00000e+00, 0.00000e+00, 0.00000e+00, 0.00000e+00,\n",
       "        0.00000e+00, 0.00000e+00, 0.00000e+00, 0.00000e+00, 0.00000e+00,\n",
       "        0.00000e+00, 0.00000e+00, 0.00000e+00, 0.00000e+00, 0.00000e+00,\n",
       "        0.00000e+00, 0.00000e+00, 0.00000e+00, 0.00000e+00, 0.00000e+00,\n",
       "        0.00000e+00, 0.00000e+00, 0.00000e+00, 0.00000e+00, 0.00000e+00,\n",
       "        0.00000e+00, 0.00000e+00, 0.00000e+00, 0.00000e+00, 0.00000e+00,\n",
       "        0.00000e+00, 0.00000e+00, 0.00000e+00, 0.00000e+00, 0.00000e+00,\n",
       "        0.00000e+00, 0.00000e+00, 0.00000e+00, 0.00000e+00, 0.00000e+00,\n",
       "        0.00000e+00, 0.00000e+00, 0.00000e+00, 0.00000e+00, 0.00000e+00,\n",
       "        0.00000e+00, 0.00000e+00, 0.00000e+00, 0.00000e+00, 0.00000e+00,\n",
       "        0.00000e+00, 0.00000e+00, 0.00000e+00, 0.00000e+00, 0.00000e+00,\n",
       "        0.00000e+00, 0.00000e+00, 0.00000e+00, 0.00000e+00, 0.00000e+00,\n",
       "        0.00000e+00, 0.00000e+00, 0.00000e+00, 0.00000e+00, 0.00000e+00,\n",
       "        0.00000e+00, 0.00000e+00, 0.00000e+00, 0.00000e+00, 0.00000e+00,\n",
       "        0.00000e+00, 0.00000e+00, 0.00000e+00, 0.00000e+00, 0.00000e+00,\n",
       "        0.00000e+00, 0.00000e+00, 0.00000e+00, 0.00000e+00, 0.00000e+00,\n",
       "        0.00000e+00, 0.00000e+00, 0.00000e+00, 0.00000e+00, 0.00000e+00,\n",
       "        0.00000e+00, 0.00000e+00, 0.00000e+00, 0.00000e+00, 0.00000e+00,\n",
       "        0.00000e+00, 0.00000e+00, 0.00000e+00, 0.00000e+00, 0.00000e+00,\n",
       "        0.00000e+00, 0.00000e+00, 0.00000e+00, 0.00000e+00, 0.00000e+00,\n",
       "        0.00000e+00, 0.00000e+00, 0.00000e+00, 0.00000e+00, 0.00000e+00,\n",
       "        0.00000e+00, 0.00000e+00, 0.00000e+00, 0.00000e+00, 0.00000e+00,\n",
       "        0.00000e+00, 0.00000e+00, 0.00000e+00, 0.00000e+00, 0.00000e+00,\n",
       "        0.00000e+00, 0.00000e+00, 0.00000e+00, 0.00000e+00, 0.00000e+00,\n",
       "        0.00000e+00, 0.00000e+00, 0.00000e+00, 0.00000e+00, 0.00000e+00,\n",
       "        0.00000e+00, 0.00000e+00, 0.00000e+00, 0.00000e+00, 0.00000e+00,\n",
       "        0.00000e+00, 0.00000e+00, 0.00000e+00, 0.00000e+00, 0.00000e+00,\n",
       "        0.00000e+00, 0.00000e+00, 0.00000e+00, 0.00000e+00, 0.00000e+00,\n",
       "        0.00000e+00, 0.00000e+00, 0.00000e+00, 0.00000e+00, 0.00000e+00,\n",
       "        0.00000e+00, 0.00000e+00, 0.00000e+00, 0.00000e+00, 0.00000e+00,\n",
       "        0.00000e+00, 0.00000e+00, 0.00000e+00, 0.00000e+00, 0.00000e+00,\n",
       "        0.00000e+00, 0.00000e+00, 0.00000e+00, 0.00000e+00, 0.00000e+00,\n",
       "        0.00000e+00, 0.00000e+00, 0.00000e+00, 0.00000e+00, 0.00000e+00,\n",
       "        0.00000e+00, 0.00000e+00, 0.00000e+00, 0.00000e+00, 0.00000e+00,\n",
       "        0.00000e+00, 0.00000e+00, 0.00000e+00, 0.00000e+00, 0.00000e+00,\n",
       "        0.00000e+00, 0.00000e+00, 1.00000e+00, 0.00000e+00, 1.00000e+00]),\n",
       " array([-2.91248579e-06, -2.90603057e-06, -2.89957535e-06, ...,\n",
       "         3.52982141e-06,  3.53627662e-06,  3.54273184e-06]),\n",
       " <BarContainer object of 1000 artists>)"
      ]
     },
     "execution_count": 25,
     "metadata": {},
     "output_type": "execute_result"
    },
    {
     "data": {
      "application/vnd.jupyter.widget-view+json": {
       "model_id": "f3f8a57a4a9e481e923c41fc6bc697c5",
       "version_major": 2,
       "version_minor": 0
      },
      "image/png": "[encoded data removed]",
      "text/html": [
       "\n",
       "            <div style=\"display: inline-block;\">\n",
       "                <div class=\"jupyter-widgets widget-label\" style=\"text-align: center;\">\n",
       "                    Figure\n",
       "                </div>\n",
       "                <img src='data:image/png;base64,iVBORw0KGgoAAAANSUhEUgAAAoAAAAHgCAYAAAA10dzkAAAAOXRFWHRTb2Z0d2FyZQBNYXRwbG90bGliIHZlcnNpb24zLjguNCwgaHR0cHM6Ly9tYXRwbG90bGliLm9yZy8fJSN1AAAACXBIWXMAAA9hAAAPYQGoP6dpAAAyuUlEQVR4nO3de3TU9Z3/8VdCmEm4TC5oZggGiBeuUkQjIV5oXXIILbVma1HSFHMw9bZgwVgF1nJx1xYMsl6RSHdX3FOVy7agBcFmAxKVGCAYIQgRWyoIO4EaMgOphJD5/P7YX76HkaigkEn4PB/nzDmd7/c93+9nvgeZZ4eZJMoYYwQAAABrREd6AQAAAGhbBCAAAIBlCEAAAADLEIAAAACWIQABAAAsQwACAABYhgAEAACwDAEIAABgGQIQAADAMgQgAACAZQhAAAAAyxCAAAAAliEAAQAALEMAAgAAWIYABAAAsAwBCAAAYBkCEAAAwDIEIAAAgGUIQAAAAMsQgAAAAJYhAAEAACxDAAIAAFiGAAQAALAMAQgAAGAZAhAAAMAyBCAAAIBlCEAAAADLEIAAAACWIQABAAAsQwACAABYhgAEAACwDAEIAABgGQIQAADAMgQgAACAZQhAAAAAyxCAAAAAliEAAQAALEMAAgAAWIYABAAAsAwBCAAAYBkCEAAAwDIEIAAAgGUIQAAAAMsQgAAAAJYhAAEAACxDAAIAAFiGAAQAALAMAQgAAGAZAhAAAMAyBCAAAIBlCEAAAADLEIAAAACWIQABAAAsQwACAABYhgAEAACwDAEIAABgmZhIL6AjC4VCOnjwoLp3766oqKhILwcAAJwBY4yOHj2qlJQURUfb+V4YAfgtHDx4UKmpqZFeBgAA+Ab279+vSy65JNLLiAgC8Fvo3r27pP/7A+TxeCK8GgAAcCaCwaBSU1Od13EbEYDfQss/+3o8HgIQAIAOxuaPb9n5D98AAAAWIwABAAAsQwACAABYhgAEAACwDAEIAABgGQIQAADAMgQgAACAZQhAAAAAyxCAAAAAliEAAQAALEMAAgAAWIYABAAAsAwBCAAAYBkCEAAAwDIEIAAAgGUIQAAAAMsQgAAAAJYhAAEAACxDAAIAAFiGAAQAALAMAQgAAGAZAhAAAMAyBCAAAIBlCEAAAADLEIAAAACWIQABAAAsQwACAABY5pwGYFlZmW6++WalpKQoKipKq1at+tLZe++9V1FRUXrqqafCttfV1SkvL08ej0cJCQkqKCjQsWPHwma2b9+uG2+8UbGxsUpNTVVRUdFpx1+xYoUGDBig2NhYDRkyRG+88UbYfmOMZs2apZ49eyouLk5ZWVnas2fPN37uAAAAHcU5DcCGhgYNHTpUCxcu/Mq5lStX6r333lNKSspp+/Ly8rRz506VlJRo9erVKisr09133+3sDwaDGj16tPr06aPKykrNnz9fc+bM0eLFi52ZTZs2KTc3VwUFBXr//feVk5OjnJwcVVdXOzNFRUV65plnVFxcrIqKCnXt2lXZ2dk6fvz4ObgSAAAA7Zg5TySZlStXnrb9008/Nb169TLV1dWmT58+5sknn3T2ffjhh0aS2bJli7Nt7dq1Jioqyhw4cMAYY8zzzz9vEhMTTWNjozMzbdo0079/f+f+bbfdZsaOHRt23oyMDHPPPfcYY4wJhULG5/OZ+fPnO/vr6+uN2+02r7766hk/x0AgYCSZQCBwxo8BAACRxeu3MW36GcBQKKQJEybooYce0uDBg0/bX15eroSEBKWnpzvbsrKyFB0drYqKCmdm5MiRcrlczkx2drZqamp05MgRZyYrKyvs2NnZ2SovL5ck7d27V36/P2wmPj5eGRkZzkxrGhsbFQwGw24AAAAdTZsG4OOPP66YmBj94he/aHW/3+9XcnJy2LaYmBglJSXJ7/c7M16vN2ym5f7XzZy6/9THtTbTmrlz5yo+Pt65paamfuXzBQAAaI/aLAArKyv19NNPa8mSJYqKimqr055TM2bMUCAQcG779++P9JIAAADOWpsF4Ntvv61Dhw6pd+/eiomJUUxMjD755BM9+OCD6tu3ryTJ5/Pp0KFDYY87efKk6urq5PP5nJna2tqwmZb7Xzdz6v5TH9faTGvcbrc8Hk/YDQAAoKNpswCcMGGCtm/frqqqKueWkpKihx56SG+++aYkKTMzU/X19aqsrHQet379eoVCIWVkZDgzZWVlampqcmZKSkrUv39/JSYmOjOlpaVh5y8pKVFmZqYkKS0tTT6fL2wmGAyqoqLCmQEAALhQxZzLgx07dkwff/yxc3/v3r2qqqpSUlKSevfurR49eoTNd+7cWT6fT/3795ckDRw4UGPGjNFdd92l4uJiNTU1afLkyRo/frzzI2N++tOf6tFHH1VBQYGmTZum6upqPf3003ryySed406ZMkXf/e53tWDBAo0dO1ZLly7V1q1bnR8VExUVpalTp+qxxx7TFVdcobS0NM2cOVMpKSnKyck5l5cEAACg/TmXXynesGGDkXTaLT8/v9X5L/4YGGOM+eyzz0xubq7p1q2b8Xg8ZuLEiebo0aNhMx988IG54YYbjNvtNr169TLz5s077djLly83/fr1My6XywwePNisWbMmbH8oFDIzZ840Xq/XuN1uM2rUKFNTU3NWz5evkQMA0PHw+m1MlDHGRLA/O7RgMKj4+HgFAgE+DwgAQAfB6ze/CxgAAMA6BCAAAIBlCEAAAADLEIAAAACWIQABAAAsQwACAABYhgAEAACwDAEIAABgGQIQAADAMgQgAACAZQhAAAAAyxCAAAAAliEAAQAALEMAAgAAWIYABAAAsAwBCAAAYBkCEAAAwDIEIAAAgGUIQAAAAMsQgAAAAJYhAAEAACxDAAIAAFiGAAQAALAMAQgAAGAZAhAAAMAyBCAAAIBlCEAAAADLEIAAAACWIQABAAAsQwACAABYhgAEAACwDAEIAABgGQIQAADAMgQgAACAZQhAAAAAyxCAAAAAliEAAQAALHNOA7CsrEw333yzUlJSFBUVpVWrVjn7mpqaNG3aNA0ZMkRdu3ZVSkqK7rjjDh08eDDsGHV1dcrLy5PH41FCQoIKCgp07NixsJnt27frxhtvVGxsrFJTU1VUVHTaWlasWKEBAwYoNjZWQ4YM0RtvvBG23xijWbNmqWfPnoqLi1NWVpb27Nlz7i4GAABAO3VOA7ChoUFDhw7VwoULT9v397//Xdu2bdPMmTO1bds2/eEPf1BNTY1+9KMfhc3l5eVp586dKikp0erVq1VWVqa7777b2R8MBjV69Gj16dNHlZWVmj9/vubMmaPFixc7M5s2bVJubq4KCgr0/vvvKycnRzk5OaqurnZmioqK9Mwzz6i4uFgVFRXq2rWrsrOzdfz48XN5SQAAANofc55IMitXrvzKmc2bNxtJ5pNPPjHGGPPhhx8aSWbLli3OzNq1a01UVJQ5cOCAMcaY559/3iQmJprGxkZnZtq0aaZ///7O/dtuu82MHTs27FwZGRnmnnvuMcYYEwqFjM/nM/Pnz3f219fXG7fbbV599dUzfo6BQMBIMoFA4IwfAwAAIovXb2Mi+hnAQCCgqKgoJSQkSJLKy8uVkJCg9PR0ZyYrK0vR0dGqqKhwZkaOHCmXy+XMZGdnq6amRkeOHHFmsrKyws6VnZ2t8vJySdLevXvl9/vDZuLj45WRkeHMtKaxsVHBYDDsBgAA0NFELACPHz+uadOmKTc3Vx6PR5Lk9/uVnJwcNhcTE6OkpCT5/X5nxuv1hs203P+6mVP3n/q41mZaM3fuXMXHxzu31NTUs3rOAAAA7UFEArCpqUm33XabjDFatGhRJJbwjcyYMUOBQMC57d+/P9JLAgAAOGsxbX3Clvj75JNPtH79eufdP0ny+Xw6dOhQ2PzJkydVV1cnn8/nzNTW1obNtNz/uplT97ds69mzZ9jMVVdd9aVrd7vdcrvdZ/N0AQAA2p02fQewJf727Nmj//mf/1GPHj3C9mdmZqq+vl6VlZXOtvXr1ysUCikjI8OZKSsrU1NTkzNTUlKi/v37KzEx0ZkpLS0NO3ZJSYkyMzMlSWlpafL5fGEzwWBQFRUVzgwAAMCF6pwG4LFjx1RVVaWqqipJ//dli6qqKu3bt09NTU36yU9+oq1bt+rll19Wc3Oz/H6//H6/Tpw4IUkaOHCgxowZo7vuukubN2/Wu+++q8mTJ2v8+PFKSUmRJP30pz+Vy+VSQUGBdu7cqWXLlunpp59WYWGhs44pU6Zo3bp1WrBggXbv3q05c+Zo69atmjx5siQpKipKU6dO1WOPPabXX39dO3bs0B133KGUlBTl5OScy0sCAADQ/pzLrxRv2LDBSDrtlp+fb/bu3dvqPklmw4YNzjE+++wzk5uba7p162Y8Ho+ZOHGiOXr0aNh5PvjgA3PDDTcYt9ttevXqZebNm3faWpYvX2769etnXC6XGTx4sFmzZk3Y/lAoZGbOnGm8Xq9xu91m1KhRpqam5qyeL18jBwCg4+H125goY4yJSHleAILBoOLj4xUIBMI+ywgAANovXr/5XcAAAADWIQABAAAsQwACAABYhgAEAACwDAEIAABgGQIQAADAMgQgAACAZQhAAAAAyxCAAAAAliEAAQAALEMAAgAAWIYABAAAsAwBCAAAYBkCEAAAwDIEIAAAgGUIQAAAAMsQgAAAAJYhAAEAACxDAAIAAFiGAAQAALAMAQgAAGAZAhAAAMAyBCAAAIBlCEAAAADLEIAAAACWIQABAAAsQwACAABYhgAEAACwDAEIAABgGQIQAADAMgQgAACAZQhAAAAAyxCAAAAAliEAAQAALEMAAgAAWIYABAAAsMw5DcCysjLdfPPNSklJUVRUlFatWhW23xijWbNmqWfPnoqLi1NWVpb27NkTNlNXV6e8vDx5PB4lJCSooKBAx44dC5vZvn27brzxRsXGxio1NVVFRUWnrWXFihUaMGCAYmNjNWTIEL3xxhtnvRYAAIAL0TkNwIaGBg0dOlQLFy5sdX9RUZGeeeYZFRcXq6KiQl27dlV2draOHz/uzOTl5Wnnzp0qKSnR6tWrVVZWprvvvtvZHwwGNXr0aPXp00eVlZWaP3++5syZo8WLFzszmzZtUm5urgoKCvT+++8rJydHOTk5qq6uPqu1AAAAXJDMeSLJrFy50rkfCoWMz+cz8+fPd7bV19cbt9ttXn31VWOMMR9++KGRZLZs2eLMrF271kRFRZkDBw4YY4x5/vnnTWJiomlsbHRmpk2bZvr37+/cv+2228zYsWPD1pORkWHuueeeM17LmQgEAkaSCQQCZ/wYAAAQWbx+G9NmnwHcu3ev/H6/srKynG3x8fHKyMhQeXm5JKm8vFwJCQlKT093ZrKyshQdHa2KigpnZuTIkXK5XM5Mdna2ampqdOTIEWfm1PO0zLSc50zWAgAAcKGKaasT+f1+SZLX6w3b7vV6nX1+v1/Jyclh+2NiYpSUlBQ2k5aWdtoxWvYlJibK7/d/7Xm+bi2taWxsVGNjo3M/GAx+xTMGAABon/gW8FmYO3eu4uPjnVtqamqklwQAAHDW2iwAfT6fJKm2tjZse21trbPP5/Pp0KFDYftPnjypurq6sJnWjnHqOb5s5tT9X7eW1syYMUOBQMC57d+//2ueNQAAQPvTZgGYlpYmn8+n0tJSZ1swGFRFRYUyMzMlSZmZmaqvr1dlZaUzs379eoVCIWVkZDgzZWVlampqcmZKSkrUv39/JSYmOjOnnqdlpuU8Z7KW1rjdbnk8nrAbAABAR3NOA/DYsWOqqqpSVVWVpP/7skVVVZX27dunqKgoTZ06VY899phef/117dixQ3fccYdSUlKUk5MjSRo4cKDGjBmju+66S5s3b9a7776ryZMna/z48UpJSZEk/fSnP5XL5VJBQYF27typZcuW6emnn1ZhYaGzjilTpmjdunVasGCBdu/erTlz5mjr1q2aPHmyJJ3RWgAAAC5Y5/IrxRs2bDCSTrvl5+cbY/7vx6/MnDnTeL1e43a7zahRo0xNTU3YMT777DOTm5trunXrZjwej5k4caI5evRo2MwHH3xgbrjhBuN2u02vXr3MvHnzTlvL8uXLTb9+/YzL5TKDBw82a9asCdt/Jmv5OnyNHACAjofXb2OijDEmgv3ZoQWDQcXHxysQCPDPwQAAdBC8fvMtYAAAAOsQgAAAAJYhAAEAACxDAAIAAFiGAAQAALAMAQgAAGAZAhAAAMAyBCAAAIBlCEAAAADLEIAAAACWIQABAAAsQwACAABYhgAEAACwDAEIAABgGQIQAADAMgQgAACAZQhAAAAAyxCAAAAAliEAAQAALEMAAgAAWIYABAAAsAwBCAAAYBkCEAAAwDIEIAAAgGUIQAAAAMsQgAAAAJYhAAEAACxDAAIAAFiGAAQAALAMAQgAAGAZAhAAAMAyBCAAAIBlCEAAAADLEIAAAACWIQABAAAsQwACAABYhgAEAACwTJsGYHNzs2bOnKm0tDTFxcXpsssu07/+67/KGOPMGGM0a9Ys9ezZU3FxccrKytKePXvCjlNXV6e8vDx5PB4lJCSooKBAx44dC5vZvn27brzxRsXGxio1NVVFRUWnrWfFihUaMGCAYmNjNWTIEL3xxhvn54kDAAC0I20agI8//rgWLVqk5557Trt27dLjjz+uoqIiPfvss85MUVGRnnnmGRUXF6uiokJdu3ZVdna2jh8/7szk5eVp586dKikp0erVq1VWVqa7777b2R8MBjV69Gj16dNHlZWVmj9/vubMmaPFixc7M5s2bVJubq4KCgr0/vvvKycnRzk5Oaqurm6biwEAABAhUebUt9/Osx/+8Ifyer36j//4D2fbrbfeqri4OP3ud7+TMUYpKSl68MEH9ctf/lKSFAgE5PV6tWTJEo0fP167du3SoEGDtGXLFqWnp0uS1q1bpx/84Af69NNPlZKSokWLFumRRx6R3++Xy+WSJE2fPl2rVq3S7t27JUm33367GhoatHr1amctI0aM0FVXXaXi4uIzej7BYFDx8fEKBALyeDzn5BoBAIDzi9fvNn4H8LrrrlNpaak++ugjSdIHH3ygd955R9///vclSXv37pXf71dWVpbzmPj4eGVkZKi8vFySVF5eroSEBCf+JCkrK0vR0dGqqKhwZkaOHOnEnyRlZ2erpqZGR44ccWZOPU/LTMt5AAAALlQxbXmy6dOnKxgMasCAAerUqZOam5v161//Wnl5eZIkv98vSfJ6vWGP83q9zj6/36/k5OSw/TExMUpKSgqbSUtLO+0YLfsSExPl9/u/8jytaWxsVGNjo3M/GAye8XMHAABoL9r0HcDly5fr5Zdf1iuvvKJt27bppZde0hNPPKGXXnqpLZfxjc2dO1fx8fHOLTU1NdJLAgAAOGttGoAPPfSQpk+frvHjx2vIkCGaMGGCHnjgAc2dO1eS5PP5JEm1tbVhj6utrXX2+Xw+HTp0KGz/yZMnVVdXFzbT2jFOPceXzbTsb82MGTMUCASc2/79+8/q+QMAALQHbRqAf//73xUdHX7KTp06KRQKSZLS0tLk8/lUWlrq7A8Gg6qoqFBmZqYkKTMzU/X19aqsrHRm1q9fr1AopIyMDGemrKxMTU1NzkxJSYn69++vxMREZ+bU87TMtJynNW63Wx6PJ+wGAADQ4Zg2lJ+fb3r16mVWr15t9u7da/7whz+Yiy66yDz88MPOzLx580xCQoJ57bXXzPbt280tt9xi0tLSzOeff+7MjBkzxgwbNsxUVFSYd955x1xxxRUmNzfX2V9fX2+8Xq+ZMGGCqa6uNkuXLjVdunQxL7zwgjPz7rvvmpiYGPPEE0+YXbt2mdmzZ5vOnTubHTt2nPHzCQQCRpIJBALf8soAAIC2wuu3MW0agMFg0EyZMsX07t3bxMbGmksvvdQ88sgjprGx0ZkJhUJm5syZxuv1GrfbbUaNGmVqamrCjvPZZ5+Z3Nxc061bN+PxeMzEiRPN0aNHw2Y++OADc8MNNxi322169epl5s2bd9p6li9fbvr162dcLpcZPHiwWbNmzVk9H/4AAQDQ8fD6bUyb/hzACw0/RwgAgI6H129+FzAAAIB1CEAAAADLEIAAAACWIQABAAAsQwACAABYhgAEAACwDAEIAABgGQIQAADAMgQgAACAZQhAAAAAyxCAAAAAliEAAQAALEMAAgAAWIYABAAAsAwBCAAAYBkCEAAAwDIEIAAAgGUIQAAAAMsQgAAAAJYhAAEAACxDAAIAAFiGAAQAALAMAQgAAGAZAhAAAMAyBCAAAIBlCEAAAADLEIAAAACWIQABAAAsQwACAABYhgAEAACwDAEIAABgGQIQAADAMgQgAACAZQhAAAAAyxCAAAAAliEAAQAALEMAAgAAWKbNA/DAgQP62c9+ph49eiguLk5DhgzR1q1bnf3GGM2aNUs9e/ZUXFycsrKytGfPnrBj1NXVKS8vTx6PRwkJCSooKNCxY8fCZrZv364bb7xRsbGxSk1NVVFR0WlrWbFihQYMGKDY2FgNGTJEb7zxxvl50gAAAO1ImwbgkSNHdP3116tz585au3atPvzwQy1YsECJiYnOTFFRkZ555hkVFxeroqJCXbt2VXZ2to4fP+7M5OXlaefOnSopKdHq1atVVlamu+++29kfDAY1evRo9enTR5WVlZo/f77mzJmjxYsXOzObNm1Sbm6uCgoK9P777ysnJ0c5OTmqrq5um4sBAAAQIVHGGNNWJ5s+fbreffddvf32263uN8YoJSVFDz74oH75y19KkgKBgLxer5YsWaLx48dr165dGjRokLZs2aL09HRJ0rp16/SDH/xAn376qVJSUrRo0SI98sgj8vv9crlczrlXrVql3bt3S5Juv/12NTQ0aPXq1c75R4wYoauuukrFxcVn9HyCwaDi4+MVCATk8Xi+8XUBAABth9fvNn4H8PXXX1d6errGjRun5ORkDRs2TL/97W+d/Xv37pXf71dWVpazLT4+XhkZGSovL5cklZeXKyEhwYk/ScrKylJ0dLQqKiqcmZEjRzrxJ0nZ2dmqqanRkSNHnJlTz9My03IeAACAC1WbBuBf/vIXLVq0SFdccYXefPNN3XffffrFL36hl156SZLk9/slSV6vN+xxXq/X2ef3+5WcnBy2PyYmRklJSWEzrR3j1HN82UzL/tY0NjYqGAyG3QAAADqamLY8WSgUUnp6un7zm99IkoYNG6bq6moVFxcrPz+/LZfyjcydO1ePPvpopJcBAADwrbTpO4A9e/bUoEGDwrYNHDhQ+/btkyT5fD5JUm1tbdhMbW2ts8/n8+nQoUNh+0+ePKm6urqwmdaOceo5vmymZX9rZsyYoUAg4Nz279//9U8aAACgnWnTALz++utVU1MTtu2jjz5Snz59JElpaWny+XwqLS119geDQVVUVCgzM1OSlJmZqfr6elVWVjoz69evVygUUkZGhjNTVlampqYmZ6akpET9+/d3vnGcmZkZdp6WmZbztMbtdsvj8YTdAAAAOhzThjZv3mxiYmLMr3/9a7Nnzx7z8ssvmy5dupjf/e53zsy8efNMQkKCee2118z27dvNLbfcYtLS0sznn3/uzIwZM8YMGzbMVFRUmHfeecdcccUVJjc319lfX19vvF6vmTBhgqmurjZLly41Xbp0MS+88IIz8+6775qYmBjzxBNPmF27dpnZs2ebzp07mx07dpzx8wkEAkaSCQQC3/LKAACAtsLrtzFtGoDGGPPHP/7RXHnllcbtdpsBAwaYxYsXh+0PhUJm5syZxuv1GrfbbUaNGmVqamrCZj777DOTm5trunXrZjwej5k4caI5evRo2MwHH3xgbrjhBuN2u02vXr3MvHnzTlvL8uXLTb9+/YzL5TKDBw82a9asOavnwh8gAAA6Hl6/jWnTnwN4oeHnCAEA0PHw+s3vAgYAALAOAQgAAGAZAhAAAMAyBCAAAIBlCEAAAADLEIAAAACWIQABAAAsQwACAABYhgAEAACwDAEIAABgGQIQAADAMgQgAACAZQhAAAAAyxCAAAAAliEAAQAALEMAAgAAWIYABAAAsAwBCAAAYBkCEAAAwDIEIAAAgGUIQAAAAMsQgAAAAJYhAAEAACxDAAIAAFiGAAQAALAMAQgAAGAZAhAAAMAyBCAAAIBlCEAAAADLEIAAAACWIQABAAAsQwACAABYhgAEAACwDAEIAABgGQIQAADAMgQgAACAZQhAAAAAy0Q0AOfNm6eoqChNnTrV2Xb8+HFNmjRJPXr0ULdu3XTrrbeqtrY27HH79u3T2LFj1aVLFyUnJ+uhhx7SyZMnw2beeustXX311XK73br88su1ZMmS086/cOFC9e3bV7GxscrIyNDmzZvPx9MEAABoVyIWgFu2bNELL7yg73znO2HbH3jgAf3xj3/UihUrtHHjRh08eFA//vGPnf3Nzc0aO3asTpw4oU2bNumll17SkiVLNGvWLGdm7969Gjt2rG666SZVVVVp6tSp+vnPf64333zTmVm2bJkKCws1e/Zsbdu2TUOHDlV2drYOHTp0/p88AABAJJkIOHr0qLniiitMSUmJ+e53v2umTJlijDGmvr7edO7c2axYscKZ3bVrl5FkysvLjTHGvPHGGyY6Otr4/X5nZtGiRcbj8ZjGxkZjjDEPP/ywGTx4cNg5b7/9dpOdne3cHz58uJk0aZJzv7m52aSkpJi5c+ee8fMIBAJGkgkEAmf+5AEAQETx+m1MRN4BnDRpksaOHausrKyw7ZWVlWpqagrbPmDAAPXu3Vvl5eWSpPLycg0ZMkRer9eZyc7OVjAY1M6dO52ZLx47OzvbOcaJEydUWVkZNhMdHa2srCxnBgAA4EIV09YnXLp0qbZt26YtW7acts/v98vlcikhISFsu9frld/vd2ZOjb+W/S37vmomGAzq888/15EjR9Tc3NzqzO7du7907Y2NjWpsbHTuB4PBr3m2AAAA7U+bvgO4f/9+TZkyRS+//LJiY2Pb8tTnxNy5cxUfH+/cUlNTI70kAACAs9amAVhZWalDhw7p6quvVkxMjGJiYrRx40Y988wziomJkdfr1YkTJ1RfXx/2uNraWvl8PkmSz+c77VvBLfe/bsbj8SguLk4XXXSROnXq1OpMyzFaM2PGDAUCAee2f//+b3QdAAAAIqlNA3DUqFHasWOHqqqqnFt6erry8vKc/925c2eVlpY6j6mpqdG+ffuUmZkpScrMzNSOHTvCvq1bUlIij8ejQYMGOTOnHqNlpuUYLpdL11xzTdhMKBRSaWmpM9Mat9stj8cTdgMAAOho2vQzgN27d9eVV14Ztq1r167q0aOHs72goECFhYVKSkqSx+PR/fffr8zMTI0YMUKSNHr0aA0aNEgTJkxQUVGR/H6/fvWrX2nSpElyu92SpHvvvVfPPfecHn74Yd15551av369li9frjVr1jjnLSwsVH5+vtLT0zV8+HA99dRTamho0MSJE9voagAAAERGm38J5Os8+eSTio6O1q233qrGxkZlZ2fr+eefd/Z36tRJq1ev1n333afMzEx17dpV+fn5+pd/+RdnJi0tTWvWrNEDDzygp59+Wpdccon+/d//XdnZ2c7M7bffrsOHD2vWrFny+/266qqrtG7dutO+GAIAAHChiTLGmEgvoqMKBoOKj49XIBDgn4MBAOggeP3mdwEDAABYhwAEAACwDAEIAABgGQIQAADAMgQgAACAZQhAAAAAyxCAAAAAliEAAQAALEMAAgAAWIYABAAAsAwBCAAAYBkCEAAAwDIEIAAAgGUIQAAAAMsQgAAAAJYhAAEAACxDAAIAAFiGAAQAALAMAQgAAGAZAhAAAMAyBCAAAIBlCEAAAADLEIAAAACWIQABAAAsQwACAABYhgAEAACwDAEIAABgGQIQAADAMgQgAACAZQhAAAAAyxCAAAAAliEAAQAALEMAAgAAWIYABAAAsAwBCAAAYBkCEAAAwDIEIAAAgGXaPADnzp2ra6+9Vt27d1dycrJycnJUU1MTNnP8+HFNmjRJPXr0ULdu3XTrrbeqtrY2bGbfvn0aO3asunTpouTkZD300EM6efJk2Mxbb72lq6++Wm63W5dffrmWLFly2noWLlyovn37KjY2VhkZGdq8efM5f84AAADtSZsH4MaNGzVp0iS99957KikpUVNTk0aPHq2GhgZn5oEHHtAf//hHrVixQhs3btTBgwf14x//2Nnf3NyssWPH6sSJE9q0aZNeeuklLVmyRLNmzXJm9u7dq7Fjx+qmm25SVVWVpk6dqp///Od68803nZlly5apsLBQs2fP1rZt2zR06FBlZ2fr0KFDbXMxAAAAIiDKGGMiuYDDhw8rOTlZGzdu1MiRIxUIBHTxxRfrlVde0U9+8hNJ0u7duzVw4ECVl5drxIgRWrt2rX74wx/q4MGD8nq9kqTi4mJNmzZNhw8flsvl0rRp07RmzRpVV1c75xo/frzq6+u1bt06SVJGRoauvfZaPffcc5KkUCik1NRU3X///Zo+ffrXrj0YDCo+Pl6BQEAej+dcXxoAAHAe8PrdDj4DGAgEJElJSUmSpMrKSjU1NSkrK8uZGTBggHr37q3y8nJJUnl5uYYMGeLEnyRlZ2crGAxq586dzsypx2iZaTnGiRMnVFlZGTYTHR2trKwsZ+aLGhsbFQwGw24AAAAdTUQDMBQKaerUqbr++ut15ZVXSpL8fr9cLpcSEhLCZr1er/x+vzNzavy17G/Z91UzwWBQn3/+uf72t7+pubm51ZmWY3zR3LlzFR8f79xSU1O/2RMHAACIoIgG4KRJk1RdXa2lS5dGchlnbMaMGQoEAs5t//79kV4SAADAWYuJ1IknT56s1atXq6ysTJdccomz3efz6cSJE6qvrw97F7C2tlY+n8+Z+eK3dVu+JXzqzBe/OVxbWyuPx6O4uDh16tRJnTp1anWm5Rhf5Ha75Xa7v9kTBgAAaCfa/B1AY4wmT56slStXav369UpLSwvbf80116hz584qLS11ttXU1Gjfvn3KzMyUJGVmZmrHjh1h39YtKSmRx+PRoEGDnJlTj9Ey03IMl8ula665JmwmFAqptLTUmQEAALgQtfk7gJMmTdIrr7yi1157Td27d3c+bxcfH6+4uDjFx8eroKBAhYWFSkpKksfj0f3336/MzEyNGDFCkjR69GgNGjRIEyZMUFFRkfx+v371q19p0qRJzjt09957r5577jk9/PDDuvPOO7V+/XotX75ca9ascdZSWFio/Px8paena/jw4XrqqafU0NCgiRMntvVlAQAAaDumjUlq9fbiiy86M59//rn5p3/6J5OYmGi6dOli/vEf/9H87//+b9hx/vrXv5rvf//7Ji4uzlx00UXmwQcfNE1NTWEzGzZsMFdddZVxuVzm0ksvDTtHi2effdb07t3buFwuM3z4cPPee++d8XMJBAJGkgkEAmd1DQAAQOTw+m1MxH8OYEfGzxECAKDj4fW7HfwcQAAAALQtAhAAAMAyBCAAAIBlCEAAAADLEIAAAACWIQABAAAsQwACAABYhgAEAACwDAEIAABgGQIQAADAMgQgAACAZQhAAAAAyxCAAAAAliEAAQAALEMAAgAAWIYABAAAsAwBCAAAYBkCEAAAwDIEIAAAgGUIQAAAAMsQgAAAAJYhAAEAACxDAAIAAFiGAAQAALAMAQgAAGAZAhAAAMAyBCAAAIBlCEAAAADLEIAAOrS+09dEegkA0OEQgAAAAJYhAAEAACxDAAIAAFiGAAQAALAMAQgAAGAZAhAAAMAyBCAAAIBlCEAAAADLWB+ACxcuVN++fRUbG6uMjAxt3rw50ksCAAA4r6wOwGXLlqmwsFCzZ8/Wtm3bNHToUGVnZ+vQoUORXhoAAMB5Y3UA/tu//ZvuuusuTZw4UYMGDVJxcbG6dOmi//zP/4z00gCcBX4dHACcnZhILyBSTpw4ocrKSs2YMcPZFh0draysLJWXl7f6mMbGRjU2Njr3A4GAJCkYDJ7fxQL4UqHGv0viv0MAZ67l7wtjTIRXEjnWBuDf/vY3NTc3y+v1hm33er3avXt3q4+ZO3euHn300dO2p6amnpc1Ajhz8U9FegUAOpqjR48qPj4+0suICGsD8JuYMWOGCgsLnfuhUEh1dXXq0aOHoqKizvp4wWBQqamp2r9/vzwez7lcaofGdWkd16V1XJfWcV1ax3VpnW3XxRijo0ePKiUlJdJLiRhrA/Ciiy5Sp06dVFtbG7a9trZWPp+v1ce43W653e6wbQkJCd96LR6Px4r/4M4W16V1XJfWcV1ax3VpHdeldTZdF1vf+Wth7ZdAXC6XrrnmGpWWljrbQqGQSktLlZmZGcGVAQAAnF/WvgMoSYWFhcrPz1d6erqGDx+up556Sg0NDZo4cWKklwYAAHDeWB2At99+uw4fPqxZs2bJ7/frqquu0rp16077Ysj54na7NXv27NP+Wdl2XJfWcV1ax3VpHdeldVyX1nFd7BNlbP4ONAAAgIWs/QwgAACArQhAAAAAyxCAAAAAliEAAQAALEMAtiM/+tGP1Lt3b8XGxqpnz56aMGGCDh48GOllRdRf//pXFRQUKC0tTXFxcbrssss0e/ZsnThxItJLi6hf//rXuu6669SlS5dz8sPIO6qFCxeqb9++io2NVUZGhjZv3hzpJUVcWVmZbr75ZqWkpCgqKkqrVq2K9JIibu7cubr22mvVvXt3JScnKycnRzU1NZFeVsQtWrRI3/nOd5wf/pyZmam1a9dGelloIwRgO3LTTTdp+fLlqqmp0e9//3v9+c9/1k9+8pNILyuidu/erVAopBdeeEE7d+7Uk08+qeLiYv3zP/9zpJcWUSdOnNC4ceN03333RXopEbNs2TIVFhZq9uzZ2rZtm4YOHars7GwdOnQo0kuLqIaGBg0dOlQLFy6M9FLajY0bN2rSpEl67733VFJSoqamJo0ePVoNDQ2RXlpEXXLJJZo3b54qKyu1detW/cM//INuueUW7dy5M9JLQxvgx8C0Y6+//rpycnLU2Niozp07R3o57cb8+fO1aNEi/eUvf4n0UiJuyZIlmjp1qurr6yO9lDaXkZGha6+9Vs8995yk//tNPqmpqbr//vs1ffr0CK+ufYiKitLKlSuVk5MT6aW0K4cPH1ZycrI2btyokSNHRno57UpSUpLmz5+vgoKCSC8F5xnvALZTdXV1evnll3XdddcRf18QCASUlJQU6WUggk6cOKHKykplZWU526Kjo5WVlaXy8vIIrgwdQSAQkCT+HjlFc3Ozli5dqoaGBn4dqiUIwHZm2rRp6tq1q3r06KF9+/bptddei/SS2pWPP/5Yzz77rO65555ILwUR9Le//U3Nzc2n/dYer9crv98foVWhIwiFQpo6daquv/56XXnllZFeTsTt2LFD3bp1k9vt1r333quVK1dq0KBBkV4W2gABeJ5Nnz5dUVFRX3nbvXu3M//QQw/p/fff15/+9Cd16tRJd9xxhy7Ef6U/2+siSQcOHNCYMWM0btw43XXXXRFa+fnzTa4JgLMzadIkVVdXa+nSpZFeSrvQv39/VVVVqaKiQvfdd5/y8/P14YcfRnpZaAN8BvA8O3z4sD777LOvnLn00kvlcrlO2/7pp58qNTVVmzZtuuDekj/b63Lw4EF973vf04gRI7RkyRJFR194/9/lm/xZsfUzgCdOnFCXLl303//932Gfb8vPz1d9fT3vnP9/fAYw3OTJk/Xaa6+prKxMaWlpkV5Ou5SVlaXLLrtML7zwQqSXgvMsJtILuNBdfPHFuvjii7/RY0OhkCSpsbHxXC6pXTib63LgwAHddNNNuuaaa/Tiiy9ekPEnfbs/K7ZxuVy65pprVFpa6sRNKBRSaWmpJk+eHNnFod0xxuj+++/XypUr9dZbbxF/XyEUCl2Qrzk4HQHYTlRUVGjLli264YYblJiYqD//+c+aOXOmLrvssgvu3b+zceDAAX3ve99Tnz599MQTT+jw4cPOPp/PF8GVRda+fftUV1enffv2qbm5WVVVVZKkyy+/XN26dYvs4tpIYWGh8vPzlZ6eruHDh+upp55SQ0ODJk6cGOmlRdSxY8f08ccfO/f37t2rqqoqJSUlqXfv3hFcWeRMmjRJr7zyil577TV1797d+ZxofHy84uLiIry6yJkxY4a+//3vq3fv3jp69KheeeUVvfXWW3rzzTcjvTS0BYN2Yfv27eamm24ySUlJxu12m759+5p7773XfPrpp5FeWkS9+OKLRlKrN5vl5+e3ek02bNgQ6aW1qWeffdb07t3buFwuM3z4cPPee+9FekkRt2HDhlb/bOTn50d6aRHzZX+HvPjii5FeWkTdeeedpk+fPsblcpmLL77YjBo1yvzpT3+K9LLQRvgMIAAAgGUuzA9TAQAA4EsRgAAAAJYhAAEAACxDAAIAAFiGAAQAALAMAQgAAGAZAhAAAMAyBCAAADjvysrKdPPNNyslJUVRUVFatWrVeT/ngQMH9LOf/Uw9evRQXFychgwZoq1bt57383YEBCAAADjvGhoaNHToUC1cuLBNznfkyBFdf/316ty5s9auXasPP/xQCxYsUGJiYpucv73jN4EAAIA2FRUVpZUrVyonJ8fZ1tjYqEceeUSvvvqq6uvrdeWVV+rxxx/X9773vW90junTp+vdd9/V22+/fW4WfYHhHUAAABBxkydPVnl5uZYuXart27dr3LhxGjNmjPbs2fONjvf6668rPT1d48aNU3JysoYNG6bf/va353jVHRfvAAIAgDb1xXcA9+3bp0svvVT79u1TSkqKM5eVlaXhw4frN7/5zVmfIzY2VpJUWFiocePGacuWLZoyZYqKi4uVn59/Tp5HRxYT6QUAAAC77dixQ83NzerXr1/Y9sbGRvXo0UOStHv3bg0cOPArjzNt2jTNmzdPkhQKhZSenu7E47Bhw1RdXU0A/n8EIAAAiKhjx46pU6dOqqysVKdOncL2devWTZJ06aWXateuXV95nJZYlKSePXtq0KBBYfsHDhyo3//+9+do1R0bAQgAACJq2LBham5u1qFDh3TjjTe2OuNyuTRgwIAzPub111+vmpqasG0fffSR+vTp863WeqEgAAEAwHl37Ngxffzxx879vXv3qqqqSklJSerXr5/y8vJ0xx13aMGCBRo2bJgOHz6s0tJSfec739HYsWPP+nwPPPCArrvuOv3mN7/Rbbfdps2bN2vx4sVavHjxuXxaHRZfAgEAAOfdW2+9pZtuuum07fn5+VqyZImampr02GOP6b/+67904MABXXTRRRoxYoQeffRRDRky5Budc/Xq1ZoxY4b27NmjtLQ0FRYW6q677vq2T+WCQAACAABYhp8DCAAAYBkCEAAAwDIEIAAAgGUIQAAAAMsQgAAAAJYhAAEAACxDAAIAAFiGAAQAALAMAQgAAGAZAhAAAMAyBCAAAIBlCEAAAADLEIAAAACW+X/BD8fUnfBR6wAAAABJRU5ErkJggg==' width=640.0/>\n",
       "            </div>\n",
       "        "
      ],
      "text/plain": [
       "Canvas(toolbar=Toolbar(toolitems=[('Home', 'Reset original view', 'home', 'home'), ('Back', 'Back to previous …"
      ]
     },
     "metadata": {},
     "output_type": "display_data"
    }
   ],
   "source": [
    "plt.figure()\n",
    "plt.hist(newcoeffs,bins=1000)"
   ]
  },
  {
   "cell_type": "code",
   "execution_count": 26,
   "id": "6a2ac6ff-d776-4354-b43e-befe552ba158",
   "metadata": {},
   "outputs": [
    {
     "data": {
      "text/plain": [
       "(155191, 1)"
      ]
     },
     "execution_count": 26,
     "metadata": {},
     "output_type": "execute_result"
    }
   ],
   "source": [
    "newDistances.shape"
   ]
  },
  {
   "cell_type": "code",
   "execution_count": 27,
   "id": "c94f327b-9971-423a-9bce-db6e9f761913",
   "metadata": {},
   "outputs": [],
   "source": [
    "f.close()"
   ]
  },
  {
   "cell_type": "code",
   "execution_count": null,
   "id": "c0e9570e-60f2-49ac-affa-0128555d3803",
   "metadata": {},
   "outputs": [],
   "source": []
  }
 ],
 "metadata": {
  "kernelspec": {
   "display_name": "Python 3 (ipykernel)",
   "language": "python",
   "name": "python3"
  },
  "language_info": {
   "codemirror_mode": {
    "name": "ipython",
    "version": 3
   },
   "file_extension": ".py",
   "mimetype": "text/x-python",
   "name": "python",
   "nbconvert_exporter": "python",
   "pygments_lexer": "ipython3",
   "version": "3.10.4"
  }
 },
 "nbformat": 4,
 "nbformat_minor": 5
}
