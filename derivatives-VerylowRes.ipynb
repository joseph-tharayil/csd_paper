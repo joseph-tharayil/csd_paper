{
 "cells": [
  {
   "cell_type": "code",
   "execution_count": 1,
   "id": "2fa8422b-35a2-45f1-b58e-785d5ba220c9",
   "metadata": {},
   "outputs": [],
   "source": [
    "import numpy as np\n",
    "import pandas as pd\n",
    "import matplotlib.pyplot as plt\n",
    "import h5py\n",
    "%matplotlib widget"
   ]
  },
  {
   "cell_type": "code",
   "execution_count": 2,
   "id": "313b4fdc-c700-4eaf-a9af-8df25762735d",
   "metadata": {},
   "outputs": [],
   "source": [
    "fname = '/gpfs/bbp.cscs.ch/project/proj85/scratch/from68/sonata_circuits/whiskerFlick/compartment/c6374a94-59b9-468d-8958-f7c8f876e562/0/coeffs_neuropixels_objective.h5'\n"
   ]
  },
  {
   "cell_type": "code",
   "execution_count": 3,
   "id": "b48d46c2-9a06-45a8-b2fa-22818f573c88",
   "metadata": {},
   "outputs": [],
   "source": [
    "f = h5py.File(fname)"
   ]
  },
  {
   "cell_type": "code",
   "execution_count": 4,
   "id": "0d2aabc9-f803-4f20-9f53-4fc1b6a02384",
   "metadata": {},
   "outputs": [],
   "source": [
    "offsets = f['S1nonbarrel_neurons']['offsets'][:]"
   ]
  },
  {
   "cell_type": "code",
   "execution_count": null,
   "id": "6613e24c-62f6-4c79-bf9d-bc3d4cc39855",
   "metadata": {},
   "outputs": [],
   "source": [
    "derivatives = np.diff(np.diff(f['electrodes']['S1nonbarrel_neurons']['scaling_factors'][:,0:51:2],axis=1),axis=1)"
   ]
  },
  {
   "cell_type": "code",
   "execution_count": null,
   "id": "04601177-20c7-4c5b-9ad9-8cba85476da3",
   "metadata": {},
   "outputs": [],
   "source": [
    "derivatives = -derivatives"
   ]
  },
  {
   "cell_type": "code",
   "execution_count": 6,
   "id": "6e21b8a3-467d-4153-84ac-6c197d817318",
   "metadata": {},
   "outputs": [],
   "source": [
    "idx = np.where(derivatives<0)"
   ]
  },
  {
   "cell_type": "code",
   "execution_count": null,
   "id": "0edeae7d-8045-47f6-a587-dae9e1080d27",
   "metadata": {},
   "outputs": [],
   "source": [
    "newDerivatives = derivatives"
   ]
  },
  {
   "cell_type": "code",
   "execution_count": null,
   "id": "acbab786-8c36-4dc1-bbfa-f9533f7b8bcf",
   "metadata": {},
   "outputs": [],
   "source": [
    "newDerivatives[derivatives<0]=0"
   ]
  },
  {
   "cell_type": "code",
   "execution_count": null,
   "id": "aa8952ac-af3b-4cf3-b5ce-d0152d1268c1",
   "metadata": {},
   "outputs": [],
   "source": [
    "f_dest = h5py.File('electrodes/derivative_verylowRes.h5','w')"
   ]
  },
  {
   "cell_type": "code",
   "execution_count": null,
   "id": "f80d1dcd-a5cd-4794-880b-9ec3568f092a",
   "metadata": {},
   "outputs": [],
   "source": [
    "f.copy(f['S1nonbarrel_neurons'],f_dest,'S1nonbarrel_neurons')"
   ]
  },
  {
   "cell_type": "code",
   "execution_count": null,
   "id": "ec3228eb-0c64-43e7-b164-2059e21854c0",
   "metadata": {},
   "outputs": [],
   "source": [
    "f_dest.create_dataset('electrodes/S1nonbarrel_neurons/scaling_factors',data=newDerivatives)"
   ]
  },
  {
   "cell_type": "code",
   "execution_count": null,
   "id": "36739653-c253-498d-bef6-bd7e5386e394",
   "metadata": {},
   "outputs": [],
   "source": [
    "f.close()\n",
    "f_dest.close()"
   ]
  },
  {
   "cell_type": "code",
   "execution_count": 13,
   "id": "3659783c-b26a-430b-8349-14a812f3e90c",
   "metadata": {},
   "outputs": [
    {
     "data": {
      "text/plain": [
       "78052696"
      ]
     },
     "execution_count": 13,
     "metadata": {},
     "output_type": "execute_result"
    }
   ],
   "source": [
    "len(np.unique(idx[0]))"
   ]
  },
  {
   "cell_type": "code",
   "execution_count": 7,
   "id": "4d3804d5-0de9-476b-b5d5-5c86779f94cb",
   "metadata": {},
   "outputs": [
    {
     "data": {
      "text/plain": [
       "0.5587817479992205"
      ]
     },
     "execution_count": 7,
     "metadata": {},
     "output_type": "execute_result"
    }
   ],
   "source": [
    "np.sum(np.abs(derivatives[idx]))/np.sum(np.abs(derivatives))"
   ]
  },
  {
   "cell_type": "code",
   "execution_count": 10,
   "id": "e8077c76-aa3d-413e-bc5e-af4c777e9af4",
   "metadata": {},
   "outputs": [
    {
     "data": {
      "text/plain": [
       "(array([       0,        0,        0, ..., 78575192, 78575192, 78575192]),\n",
       " array([20, 21, 22, ..., 14, 15, 16]))"
      ]
     },
     "execution_count": 10,
     "metadata": {},
     "output_type": "execute_result"
    }
   ],
   "source": [
    "idx"
   ]
  },
  {
   "cell_type": "code",
   "execution_count": 17,
   "id": "7720b4d6-2a4e-487a-8681-634ca5581687",
   "metadata": {},
   "outputs": [
    {
     "data": {
      "text/plain": [
       "0.28110728810639596"
      ]
     },
     "execution_count": 17,
     "metadata": {},
     "output_type": "execute_result"
    }
   ],
   "source": [
    "len(idx[0])/(78575193*24)"
   ]
  },
  {
   "cell_type": "code",
   "execution_count": null,
   "id": "b16d4d98-031c-4413-be67-bb69bfec0846",
   "metadata": {},
   "outputs": [],
   "source": []
  }
 ],
 "metadata": {
  "kernelspec": {
   "display_name": "Python 3 (ipykernel)",
   "language": "python",
   "name": "python3"
  },
  "language_info": {
   "codemirror_mode": {
    "name": "ipython",
    "version": 3
   },
   "file_extension": ".py",
   "mimetype": "text/x-python",
   "name": "python",
   "nbconvert_exporter": "python",
   "pygments_lexer": "ipython3",
   "version": "3.11.6"
  }
 },
 "nbformat": 4,
 "nbformat_minor": 5
}
